{
 "cells": [
  {
   "cell_type": "markdown",
   "id": "75859f90",
   "metadata": {},
   "source": [
    "# What is LINQ?\n",
    "\n",
    "**LINQ (Language Integrated Query)** is a feature in C# that allows you to write queries directly against collections, databases, XML, and more, using a **unified, readable syntax**. Any type that implements `IEnumerable<T>` (or `IQueryable<T>` for databases) can be queried with LINQ.\n",
    "\n",
    "Instead of writing loops and conditionals by hand, LINQ lets you express what you want, not how to get it."
   ]
  },
  {
   "cell_type": "markdown",
   "id": "d1c1e92d",
   "metadata": {},
   "source": [
    "## Why LINQ matters\n",
    "\n",
    "- Provides a consistent way to query different data sources.\n",
    "- Makes code shorter and easier to read.\n",
    "- Works directly with objects in memory (`IEnumerable<T>`).\n",
    "- Offers both **method syntax** and **query syntax** (we'll focus on method syntax first)."
   ]
  },
  {
   "cell_type": "markdown",
   "id": "753805ff",
   "metadata": {},
   "source": [
    "## A simple example\n",
    "\n",
    "Suppose you have a list of numbers:"
   ]
  },
  {
   "cell_type": "code",
   "execution_count": null,
   "id": "a04984ae",
   "metadata": {},
   "outputs": [],
   "source": [
    "var numbers = new List<int> { 1, 2, 3, 4, 5, 6 };\n",
    "\n",
    "// Traditional loop\n",
    "var evenNumbers = new List<int>();\n",
    "foreach (var n in numbers)\n",
    "{\n",
    "    if (n % 2 == 0)\n",
    "    {\n",
    "        evenNumbers.Add(n);\n",
    "    }\n",
    "}\n",
    "\n",
    "Console.WriteLine(string.Join(\", \", evenNumbers));\n",
    "\n",
    "// With LINQ\n",
    "var evensWithLINQ = numbers.Where(n => n % 2 == 0);\n",
    "Console.WriteLine(string.Join(\", \", evensWithLINQ));"
   ]
  },
  {
   "cell_type": "markdown",
   "id": "a0c39100",
   "metadata": {},
   "source": [
    "Both versions print the even numbers, but the LINQ version separates filtering logic from iteration with a functional approach."
   ]
  },
  {
   "cell_type": "markdown",
   "id": "23bfdfb0",
   "metadata": {},
   "source": [
    "## Querying objects\n",
    "\n",
    "Any class collection can be queried if it implements `IEnumerable<T>`:"
   ]
  },
  {
   "cell_type": "code",
   "execution_count": null,
   "id": "33046c51",
   "metadata": {},
   "outputs": [],
   "source": [
    "// Program.cs\n",
    "var books = new List<Book>\n",
    "{\n",
    "    new Book { Title = \"1984\", Author = \"Orwell\", Year = 1949 },\n",
    "    new Book { Title = \"Brave New World\", Author = \"Huxley\", Year = 1932 },\n",
    "    new Book { Title = \"Fahrenheit 451\", Author = \"Bradbury\", Year = 1953 }\n",
    "};\n",
    "\n",
    "// Without LINQ\n",
    "var modernBooks = new List<Book>();\n",
    "foreach (var book in books)\n",
    "{\n",
    "    if (book.Year > 1940)\n",
    "    {\n",
    "        modernBooks.Add(book);\n",
    "    }\n",
    "}\n",
    "foreach (var book in modernBooks)\n",
    "{\n",
    "    Console.WriteLine($\"{book.Title} ({book.Year})\");\n",
    "}\n",
    "\n",
    "// With LINQ\n",
    "var modern = books.Where(b => b.Year > 1940);\n",
    "\n",
    "foreach (var book in modern)\n",
    "{\n",
    "    Console.WriteLine($\"{book.Title} ({book.Year})\");\n",
    "}\n",
    "\n",
    "// Book.cs\n",
    "public class Book\n",
    "{\n",
    "    public string Title { get; set; } = \"\";\n",
    "    public string Author { get; set; } = \"\";\n",
    "    public int Year { get; set; }\n",
    "}"
   ]
  },
  {
   "cell_type": "markdown",
   "id": "b95ff98a",
   "metadata": {},
   "source": [
    "## Key point for now\n",
    "\n",
    "LINQ works because `List<T>` and other collections implement the `IEnumerable<T>` interface. LINQ methods like `Where`, `Select`, and `OrderBy` are **extension methods** that operate on any `IEnumerable<T>`.\n",
    "\n",
    "We'll go deeper into filtering, projecting (selecting), ordering, and aggregating in the next lessons. For now, remember:\n",
    "\n",
    "- LINQ is just methods on `IEnumerable<T>`.\n",
    "- It improves readability by expressing queries directly in C#."
   ]
  }
 ],
 "metadata": {
  "kernelspec": {
   "display_name": ".NET (C#)",
   "language": "C#",
   "name": ".net-csharp"
  },
  "language_info": {
   "name": "polyglot-notebook"
  },
  "polyglot_notebook": {
   "kernelInfo": {
    "defaultKernelName": "csharp",
    "items": [
     {
      "aliases": [],
      "name": "csharp"
     }
    ]
   }
  }
 },
 "nbformat": 4,
 "nbformat_minor": 5
}
