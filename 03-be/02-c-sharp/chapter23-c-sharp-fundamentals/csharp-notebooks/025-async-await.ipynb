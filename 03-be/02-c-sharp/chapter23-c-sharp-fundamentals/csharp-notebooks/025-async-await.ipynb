{
 "cells": [
  {
   "cell_type": "markdown",
   "id": "38288a35",
   "metadata": {},
   "source": [
    "# Async/Await\n",
    "\n",
    "Asynchronous programming lets your application handle multiple operations at once without blocking execution. In C#, the primary tools for writing asynchronous code are the `async` keyword and the `await` operator. Together, they help you write code that looks synchronous but runs asynchronously, improving responsiveness and scalability.\n",
    "\n",
    "## Why Asynchronous Programming?\n",
    "\n",
    "- **Responsiveness**: In desktop or mobile apps, you don't want the UI to freeze while waiting for a long-running operation like a network call.\n",
    "- **Scalability**: In server apps, async I/O allows handling many requests with fewer threads.\n",
    "- **Resource efficiency**: Threads are expensive. Async methods free up threads to handle other work.\n",
    "\n",
    "## The `Task` and `Task<T>` Types\n",
    "\n",
    "- `Task` represents an asynchronous operation that doesn't return a value.\n",
    "- `Task<T>` represents an asynchronous operation that returns a result of type `T`.\n",
    "- They can be awaited or composed with methods like `Task.WhenAll`.\n",
    "\n",
    "## The `async` Keyword\n",
    "\n",
    "- Marks a method as asynchronous.\n",
    "- Allows use of `await` inside it.\n",
    "- Changes the method's return type to `Task`, `Task<T>`, or `ValueTask`.\n",
    "\n",
    "Example:"
   ]
  },
  {
   "cell_type": "code",
   "execution_count": null,
   "id": "6be4ab9e",
   "metadata": {},
   "outputs": [],
   "source": [
    "using System.Net.Http;\n",
    "\n",
    "async Task<object> FetchDataAsync(string url)\n",
    "{\n",
    "    using var httpClient = new HttpClient();\n",
    "    var data = await httpClient.GetStringAsync(url);\n",
    "    return data;\n",
    "}\n",
    "\n",
    "var result = await FetchDataAsync(\"https://jsonplaceholder.typicode.com/todos\");\n",
    "Console.WriteLine(result);"
   ]
  },
  {
   "cell_type": "markdown",
   "id": "2f809f5e",
   "metadata": {},
   "source": [
    "Here, `await` pauses execution until `GetStringAsync` finishes, but without blocking the calling thread.\n",
    "\n",
    "## The `await` Operator\n",
    "\n",
    "- Applied to a `Task` or `Task<T>`.\n",
    "- Suspends the method until the awaited task completes.\n",
    "- Control returns to the caller in the meantime.\n",
    "- When the task completes, execution resumes after the `await`.\n",
    "\n",
    "## Exception Handling\n",
    "\n",
    "Async methods propagate exceptions through their `Task`."
   ]
  },
  {
   "cell_type": "code",
   "execution_count": null,
   "id": "545d7917",
   "metadata": {},
   "outputs": [],
   "source": [
    "async Task<object> FetchDataAsync(string url)\n",
    "{\n",
    "    using var httpClient = new HttpClient();\n",
    "    throw new NotImplementedException(\"Implement this method to fetch data from the given URL.\");\n",
    "    var data = await httpClient.GetStringAsync(url);\n",
    "    return data;\n",
    "}\n",
    "\n",
    "try\n",
    "{\n",
    "    var result = await FetchDataAsync(\"https://jsonplaceholder.typicode.com/todos\");\n",
    "}\n",
    "catch (Exception ex)\n",
    "{\n",
    "    Console.WriteLine($\"Error: {ex.Message}\");\n",
    "}"
   ]
  },
  {
   "cell_type": "markdown",
   "id": "3e04e869",
   "metadata": {},
   "source": [
    "## Returning Values"
   ]
  },
  {
   "cell_type": "code",
   "execution_count": null,
   "id": "06d53908",
   "metadata": {},
   "outputs": [],
   "source": [
    "async Task<int> CalculateAsync()\n",
    "{\n",
    "    await Task.Delay(500);\n",
    "    return 42;\n",
    "}\n",
    "\n",
    "Console.WriteLine(await CalculateAsync());"
   ]
  },
  {
   "cell_type": "markdown",
   "id": "8f279ab3",
   "metadata": {},
   "source": [
    "The caller can `await` this method to get the result.\n",
    "\n",
    "## Composing Tasks\n",
    "\n",
    "- `Task.WhenAll` – runs tasks in parallel and awaits all.\n",
    "- `Task.WhenAny` – continues when any task completes."
   ]
  },
  {
   "cell_type": "code",
   "execution_count": null,
   "id": "01df2b35",
   "metadata": {},
   "outputs": [],
   "source": [
    "using System.Net.Http;\n",
    "\n",
    "async Task<object> FetchDataAsync(string url)\n",
    "{\n",
    "    using var httpClient = new HttpClient();\n",
    "    var data = await httpClient.GetStringAsync(url);\n",
    "    return data;\n",
    "}\n",
    "\n",
    "try\n",
    "{\n",
    "    var tasks = new[] { FetchDataAsync(\"https://jsonplaceholder.typicode.com/todos\"), FetchDataAsync(\"https://jsonplaceholder.typicode.com/posts\") };\n",
    "    var result = await Task.WhenAll(tasks);\n",
    "    Console.WriteLine(\"Fetched data successfully.\");\n",
    "    Console.WriteLine(result[0]);\n",
    "    Console.WriteLine(result[1]);\n",
    "}\n",
    "catch (Exception ex)\n",
    "{\n",
    "    Console.WriteLine($\"Error: {ex.Message}\");\n",
    "}"
   ]
  },
  {
   "cell_type": "markdown",
   "id": "b7469d19",
   "metadata": {},
   "source": [
    "## Constraints & Best Practices\n",
    "\n",
    "- Don't block async code with `.Result` or `.Wait()` → can cause deadlocks.\n",
    "- Make methods async \"all the way down\" (async calls async).\n",
    "\n",
    "## Comparison with TypeScript Async/Await\n",
    "\n",
    "If you've used TypeScript, C# async/await will feel familiar. Both languages use the `async` keyword to mark an asynchronous function and `await` to pause execution until a promise/task completes.\n",
    "\n",
    "**TypeScript Example:**\n",
    "\n",
    "```tsx\n",
    "async function fetchDataAsync(url: string): Promise<object> {\n",
    "  const response = await fetch(url);\n",
    "  const data = await response.json();\n",
    "  return data;\n",
    "}\n",
    "\n",
    "const result = await fetchDataAsync('https://jsonplaceholder.typicode.com/todos');\n",
    "console.log(result);\n",
    "```\n",
    "\n",
    "**C# Equivalent:**"
   ]
  },
  {
   "cell_type": "code",
   "execution_count": null,
   "id": "b771044a",
   "metadata": {},
   "outputs": [],
   "source": [
    "using System.Net.Http;\n",
    "\n",
    "async Task<object> FetchDataAsync(string url)\n",
    "{\n",
    "    using var httpClient = new HttpClient();\n",
    "    var data = await httpClient.GetStringAsync(url);\n",
    "    return data;\n",
    "}\n",
    "\n",
    "var result = await FetchDataAsync(\"https://jsonplaceholder.typicode.com/todos\");\n",
    "Console.WriteLine(result);"
   ]
  },
  {
   "cell_type": "markdown",
   "id": "9c4974c6",
   "metadata": {},
   "source": [
    "Key parallels:\n",
    "\n",
    "- **Promises vs Tasks**: TypeScript async functions return a `Promise<T>`. C# async methods return `Task<T>`. Both represent a value that will be available in the future.\n",
    "- **Error handling**: TypeScript uses `try/catch` around awaited calls, same as C#.\n",
    "- **Composition**: In TypeScript, `Promise.all([ ... ])` waits for multiple promises. In C#, `Task.WhenAll(...)` does the same for tasks.\n",
    "\n",
    "## Await Pauses Execution, Not the Thread\n",
    "\n",
    "⚠️ It's important to understand that when you use `await`, code after the `await` line does not execute until the awaited task is finished. **But this does not block the thread** control is returned to the caller so that thread can do other work.\n",
    "\n",
    "## Summary\n",
    "\n",
    "- `async` and `await` make asynchronous programming approachable.\n",
    "- C# uses `Task`/`Task<T>` where TypeScript uses `Promise<T>`.\n",
    "- Error handling and composition patterns are almost identical across the two languages.\n",
    "- Async code improves responsiveness and scalability.\n",
    "- Use exception handling and composition tools to manage tasks effectively."
   ]
  }
 ],
 "metadata": {
  "kernelspec": {
   "display_name": ".NET (C#)",
   "language": "C#",
   "name": ".net-csharp"
  },
  "language_info": {
   "name": "polyglot-notebook"
  },
  "polyglot_notebook": {
   "kernelInfo": {
    "defaultKernelName": "csharp",
    "items": [
     {
      "aliases": [],
      "name": "csharp"
     }
    ]
   }
  }
 },
 "nbformat": 4,
 "nbformat_minor": 5
}
