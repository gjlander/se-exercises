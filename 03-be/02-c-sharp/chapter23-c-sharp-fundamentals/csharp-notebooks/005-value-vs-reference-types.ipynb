{
 "cells": [
  {
   "cell_type": "markdown",
   "id": "f52b7fe7",
   "metadata": {},
   "source": [
    "# Value vs Reference Types\n",
    "\n",
    "In C#, when you pass data into methods, how it behaves depends on whether the parameter is passed **by value** or **by reference**.\n",
    "\n",
    "By default, C# passes arguments by **value**. That means the method receives a copy of the data. Any changes inside the method do not affect the original variable.\n",
    "\n",
    "With **reference parameters** (`ref`, `out`, `in`), the method works with the caller's variable directly. Changes inside the method are visible outside.\n",
    "\n",
    "### Pass by Value (default)\n",
    "\n",
    "The variable `x` remains unchanged because only a copy was modified."
   ]
  },
  {
   "cell_type": "code",
   "execution_count": 1,
   "id": "8dbd9e90",
   "metadata": {
    "language_info": {
     "name": "polyglot-notebook"
    },
    "polyglot_notebook": {
     "kernelName": "csharp"
    }
   },
   "outputs": [
    {
     "name": "stdout",
     "output_type": "stream",
     "text": [
      "Increment received a copy of number and modified it: 6\n",
      "x remains unaltered: 5\n"
     ]
    }
   ],
   "source": [
    "public class DemoByValue\n",
    "{\n",
    "    public static void Increment(int number)\n",
    "    {\n",
    "        number++;\n",
    "        Console.WriteLine($\"Increment received a copy of number and modified it: {number}\");\n",
    "    }\n",
    "}\n",
    "\n",
    "int x = 5;\n",
    "DemoByValue.Increment(x);\n",
    "Console.WriteLine($\"x remains unaltered: {x}\");"
   ]
  },
  {
   "cell_type": "markdown",
   "id": "6f96d925",
   "metadata": {},
   "source": [
    "### Pass by Reference with `ref`\n",
    "\n",
    "This time the method works directly with `x`, so the change persists."
   ]
  },
  {
   "cell_type": "code",
   "execution_count": 2,
   "id": "08909041",
   "metadata": {
    "language_info": {
     "name": "polyglot-notebook"
    },
    "polyglot_notebook": {
     "kernelName": "csharp"
    }
   },
   "outputs": [
    {
     "name": "stdout",
     "output_type": "stream",
     "text": [
      "Increment received a reference to number and modified it: 6\n",
      "x is altered: 6!\n"
     ]
    }
   ],
   "source": [
    "public class DemoByRef\n",
    "{\n",
    "    public static void Increment(ref int number)\n",
    "    {\n",
    "        number++;\n",
    "        Console.WriteLine($\"Increment received a reference to number and modified it: {number}\");\n",
    "    }\n",
    "}\n",
    "\n",
    "int x = 5;\n",
    "DemoByRef.Increment(ref x);\n",
    "Console.WriteLine($\"x is altered: {x}!\");"
   ]
  },
  {
   "cell_type": "markdown",
   "id": "304619f3",
   "metadata": {},
   "source": [
    "### `out` parameters\n",
    "\n",
    "The `out` modifier is used when a method must return multiple results. The variable passed with `out` does not need an initial value."
   ]
  },
  {
   "cell_type": "code",
   "execution_count": 3,
   "id": "080b4396",
   "metadata": {
    "language_info": {
     "name": "polyglot-notebook"
    },
    "polyglot_notebook": {
     "kernelName": "csharp"
    }
   },
   "outputs": [
    {
     "name": "stdout",
     "output_type": "stream",
     "text": [
      "Can divide: True\n",
      "Result: 5\n",
      "Can divide: False\n",
      "Result: 0\n"
     ]
    }
   ],
   "source": [
    "public class Divider\n",
    "{\n",
    "    public static bool TryDivide(int a, int b, out double result)\n",
    "    {\n",
    "        if (b == 0)\n",
    "        {\n",
    "            result = 0;\n",
    "            return false;\n",
    "        }\n",
    "        result = (double)a / b;\n",
    "        return true;\n",
    "    }\n",
    "}\n",
    "\n",
    "double value1;\n",
    "var canDivide1 = Divider.TryDivide(10, 2, out value1);\n",
    "Console.WriteLine($\"Can divide: {canDivide1}\");\n",
    "Console.WriteLine($\"Result: {value1}\");\n",
    "\n",
    "double value2;\n",
    "var canDivide2 = Divider.TryDivide(10, 0, out value2);\n",
    "Console.WriteLine($\"Can divide: {canDivide2}\");\n",
    "Console.WriteLine($\"Result: {value2}\");"
   ]
  },
  {
   "cell_type": "markdown",
   "id": "19dc4a57",
   "metadata": {},
   "source": [
    "### `in` parameters\n",
    "\n",
    "The `in` modifier ensures a parameter is passed by reference but is **read-only** inside the method. It's very helpful when you don't want to copy big structs that would be expensive if passed by value but you want to guarantee immutability.\n",
    "\n",
    "👉 You'd rarely need in for small types like int or double. It shines with **large structs** where performance and clarity both matter."
   ]
  },
  {
   "cell_type": "code",
   "execution_count": 4,
   "id": "38c769fe",
   "metadata": {
    "language_info": {
     "name": "polyglot-notebook"
    },
    "polyglot_notebook": {
     "kernelName": "csharp"
    }
   },
   "outputs": [
    {
     "name": "stdout",
     "output_type": "stream",
     "text": [
      "LOG: System started\r\n"
     ]
    }
   ],
   "source": [
    "public class Logger\n",
    "{\n",
    "    public void Log(in string message)\n",
    "    {\n",
    "        // message = \"Something Else\"; // This line would break the code because message is a readonly reference\n",
    "        Console.WriteLine($\"LOG: {message}\");\n",
    "    }\n",
    "}\n",
    "\n",
    "var logger = new Logger();\n",
    "logger.Log(\"System started\");"
   ]
  },
  {
   "cell_type": "markdown",
   "id": "af7ddff5",
   "metadata": {},
   "source": [
    "### Summary\n",
    "\n",
    "- **By default, parameters are passed by value** (method gets a copy).\n",
    "- **`ref`** passes by reference, changes persist outside the method.\n",
    "- **`out`** passes by reference for output values, useful for multiple return values.\n",
    "- **`in`** passes by reference but read-only inside the method.\n",
    "\n",
    "This distinction is essential when designing methods that modify their inputs or return multiple results."
   ]
  }
 ],
 "metadata": {
  "kernelspec": {
   "display_name": ".NET (C#)",
   "language": "C#",
   "name": ".net-csharp"
  },
  "language_info": {
   "name": "polyglot-notebook"
  },
  "polyglot_notebook": {
   "kernelInfo": {
    "defaultKernelName": "csharp",
    "items": [
     {
      "aliases": [],
      "languageName": "csharp",
      "name": "csharp"
     }
    ]
   }
  }
 },
 "nbformat": 4,
 "nbformat_minor": 5
}
