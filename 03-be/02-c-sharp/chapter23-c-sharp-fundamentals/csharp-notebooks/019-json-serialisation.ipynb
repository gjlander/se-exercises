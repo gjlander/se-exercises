{
 "cells": [
  {
   "cell_type": "markdown",
   "id": "3c3755be",
   "metadata": {},
   "source": [
    "# JSON Serialisation in C#\n",
    "\n",
    "As you already know, JSON (JavaScript Object Notation) is a lightweight text format for representing structured data. In .NET, the recommended API for working with JSON is **System.Text.Json** (built into .NET 5+).\n",
    "\n",
    "## Basic serialisation"
   ]
  },
  {
   "cell_type": "code",
   "execution_count": null,
   "id": "812c748b",
   "metadata": {},
   "outputs": [],
   "source": [
    "using System.Text.Json;\n",
    "\n",
    "var person = new { Name = \"Aisha\", Age = 30 };\n",
    "string json = JsonSerializer.Serialize(person);\n",
    "Console.WriteLine(json); // {\"Name\":\"Aisha\",\"Age\":30}"
   ]
  },
  {
   "cell_type": "markdown",
   "id": "d5984e40",
   "metadata": {},
   "source": [
    "## Writing to and reading from a file"
   ]
  },
  {
   "cell_type": "code",
   "execution_count": null,
   "id": "41fe8ad8",
   "metadata": {},
   "outputs": [],
   "source": [
    "using System.IO;\n",
    "using System.Text.Json;\n",
    "\n",
    "var person = new { Name = \"Aisha\", Age = 30 };\n",
    "string json = JsonSerializer.Serialize(person);\n",
    "\n",
    "// Serialize and write to file\n",
    "File.WriteAllText(\"person.json\", JsonSerializer.Serialize(person));\n",
    "\n",
    "// Read from file and deserialize\n",
    "string jsonIn = File.ReadAllText(\"person.json\");\n",
    "var obj = JsonSerializer.Deserialize<Dictionary<string, object>>(jsonIn);\n",
    "Console.WriteLine(obj?[\"Name\"]);"
   ]
  },
  {
   "cell_type": "markdown",
   "id": "3f4d1489",
   "metadata": {},
   "source": [
    "## Custom classes"
   ]
  },
  {
   "cell_type": "code",
   "execution_count": null,
   "id": "d167dbcd",
   "metadata": {},
   "outputs": [],
   "source": [
    "using System.Text.Json;\n",
    "\n",
    "// Define the Customer class\n",
    "public class Customer\n",
    "{\n",
    "    public string Name { get; set; } = string.Empty;\n",
    "    public int Age { get; set; }\n",
    "}\n",
    "\n",
    "// Use the Customer class\n",
    "var cust = new Customer { Name = \"Jonas\", Age = 34 };\n",
    "string custJson = JsonSerializer.Serialize(cust);\n",
    "Console.WriteLine(custJson);\n",
    "\n",
    "var back = JsonSerializer.Deserialize<Customer>(custJson);\n",
    "Console.WriteLine($\"{back?.Name} ({back?.Age})\");"
   ]
  },
  {
   "cell_type": "markdown",
   "id": "5d85100e",
   "metadata": {},
   "source": [
    "## Options"
   ]
  },
  {
   "cell_type": "code",
   "execution_count": null,
   "id": "5c6d8f37",
   "metadata": {},
   "outputs": [],
   "source": [
    "using System.Text.Json;\n",
    "\n",
    "var person = new { Name = \"Aisha\", Age = 30 };\n",
    "var options = new JsonSerializerOptions { WriteIndented = true };\n",
    "string jsonPretty = JsonSerializer.Serialize(person, options);\n",
    "Console.WriteLine(jsonPretty);"
   ]
  },
  {
   "cell_type": "markdown",
   "id": "f4f66ba2",
   "metadata": {},
   "source": [
    "## Common exceptions\n",
    "\n",
    "- **JsonException** – invalid JSON structure.\n",
    "- **NotSupportedException** – unsupported types.\n",
    "- **ArgumentNullException** – null inputs to `Serialize`/`Deserialize`.\n",
    "\n",
    "## Notes\n",
    "\n",
    "- `System.Text.Json` is fast and efficient, suitable for most use cases.\n",
    "- Use `JsonSerializerOptions` for formatting, naming policies, or ignoring null values."
   ]
  }
 ],
 "metadata": {
  "kernelspec": {
   "display_name": ".NET (C#)",
   "language": "C#",
   "name": ".net-csharp"
  },
  "language_info": {
   "name": "polyglot-notebook"
  },
  "polyglot_notebook": {
   "kernelInfo": {
    "defaultKernelName": "csharp",
    "items": [
     {
      "aliases": [],
      "name": "csharp"
     }
    ]
   }
  }
 },
 "nbformat": 4,
 "nbformat_minor": 5
}
