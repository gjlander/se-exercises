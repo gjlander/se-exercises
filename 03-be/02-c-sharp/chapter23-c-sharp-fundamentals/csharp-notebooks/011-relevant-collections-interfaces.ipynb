{
 "cells": [
  {
   "cell_type": "markdown",
   "id": "27b46ad4",
   "metadata": {},
   "source": [
    "# Relevant Collection Interfaces\n",
    "\n",
    "C# code in real applications benefits from **programming to interfaces**. This principle means you depend on an abstraction (an interface) rather than on a concrete class. By coding against contracts like `IEnumerable<T>` or `ICollection<T>`, your methods remain flexible: callers can pass in arrays, lists, queries, or any other type that implements the interface. This reduces coupling, makes your code more testable, and allows implementations to change without breaking your API. Two of the most relevant collection interfaces are `IEnumerable<T>` and `ICollection<T>`. Knowing when to use each keeps your APIs clear, efficient, and maintainable.\n",
    "\n",
    "## What they represent\n",
    "\n",
    "- **`IEnumerable<T>`**: the minimum contract for *iteration*. You can `foreach` it and use LINQ. No guarantees about count or mutability.\n",
    "- **`ICollection<T>`**: builds on `IEnumerable<T>` and adds *size* and *mutation*. It exposes `Count`, `Add`, `Remove`, `Contains`, `Clear`, and `IsReadOnly`.\n",
    "\n",
    "## Rule of thumb\n",
    "\n",
    "- **Accept** `IEnumerable<T>` for inputs you will *read* or *iterate* over.\n",
    "- **Return** `IReadOnlyCollection<T>` when you want to expose a *countable, read‑only* collection.\n",
    "- **Use** `ICollection<T>` *inside* aggregates or services when you must *mutate* the collection."
   ]
  },
  {
   "cell_type": "markdown",
   "id": "8209e4bf",
   "metadata": {},
   "source": [
    "## Practical comparisons\n",
    "\n",
    "**Capabilities at a glance**\n",
    "\n",
    "| Interface | Iterate | Count | Add/Remove | Intent |\n",
    "| --- | --- | --- | --- | --- |\n",
    "| `IEnumerable<T>` | ✓ | ✗ (you may have to iterate to count) | ✗ | Read/stream items |\n",
    "| `ICollection<T>` | ✓ | ✓ (`Count`) | ✓ | Manage a mutable collection |\n",
    "| `IReadOnlyCollection<T>` | ✓ | ✓ (`Count`) | ✗ | Expose a stable, read‑only view |"
   ]
  },
  {
   "cell_type": "markdown",
   "id": "a897a3dd",
   "metadata": {},
   "source": [
    "## Real‑world usage patterns\n",
    "\n",
    "### 1) Service accepting input data"
   ]
  },
  {
   "cell_type": "code",
   "execution_count": null,
   "id": "0303d92f",
   "metadata": {},
   "outputs": [],
   "source": [
    "// Program.cs\n",
    "InvoiceService service = new InvoiceService();\n",
    "\n",
    "var lines = new List<InvoiceService.InvoiceLine>\n",
    "{\n",
    "    new InvoiceService.InvoiceLine { UnitPrice = 10.0m, Quantity = 2 },\n",
    "    new InvoiceService.InvoiceLine { UnitPrice = 5.0m, Quantity = 5 }\n",
    "};\n",
    "\n",
    "decimal total = service.CalculateTotal(lines);\n",
    "Console.WriteLine($\"Total Invoice Amount: {total}\");\n",
    "\n",
    "// InvoiceService.cs\n",
    "public class InvoiceService\n",
    "{\n",
    "    // We only need to iterate; callers can pass arrays, lists, EF queries, etc.\n",
    "    public class InvoiceLine\n",
    "    {\n",
    "        public decimal UnitPrice { get; set; }\n",
    "        public int Quantity { get; set; }\n",
    "    }\n",
    "\n",
    "    public decimal CalculateTotal(IEnumerable<InvoiceLine> lines)\n",
    "    {\n",
    "        decimal total = 0m;\n",
    "        foreach (var line in lines)\n",
    "        {\n",
    "            total += line.UnitPrice * line.Quantity;\n",
    "        }\n",
    "        return total;\n",
    "    }\n",
    "}"
   ]
  },
  {
   "cell_type": "markdown",
   "id": "85749b7f",
   "metadata": {},
   "source": [
    "Why `IEnumerable<T>`: the service doesn't mutate or need `Count`; it just streams through items.\n",
    "\n",
    "### 2) Aggregate that manages internal state"
   ]
  },
  {
   "cell_type": "code",
   "execution_count": null,
   "id": "3ec192cc",
   "metadata": {},
   "outputs": [],
   "source": [
    "// Program.cs\n",
    "ShoppingBasket basket = new();\n",
    "\n",
    "basket.AddItem(new BasketItem { ProductId = Guid.NewGuid(), ProductName = \"Apple\", Price = 0.5m, Quantity = 3 });\n",
    "basket.AddItem(new BasketItem { ProductId = Guid.NewGuid(), ProductName = \"Banana\", Price = 0.2m, Quantity = 5 });\n",
    "\n",
    "Console.WriteLine(\"Items in basket: \" + basket.Items.Count);\n",
    "// Console.WriteLine(\"Items in basket: \" + basket._items); // This line will cause a compile-time error\n",
    "\n",
    "// BasketItem.cs\n",
    "public class BasketItem\n",
    "{\n",
    "    public Guid ProductId { get; set; }\n",
    "    public string ProductName { get; set; } = string.Empty;\n",
    "    public decimal Price { get; set; }\n",
    "    public int Quantity { get; set; }\n",
    "}\n",
    "\n",
    "// ShoppingBasket.cs\n",
    "public class ShoppingBasket\n",
    "{\n",
    "    private ICollection<BasketItem> _items = new List<BasketItem>();\n",
    "\n",
    "    public IReadOnlyCollection<BasketItem> Items => (IReadOnlyCollection<BasketItem>)_items;\n",
    "\n",
    "    public void AddItem(BasketItem item)\n",
    "    {\n",
    "        // business rules here\n",
    "        _items.Add(item);\n",
    "    }\n",
    "\n",
    "    public bool RemoveItem(Guid productId)\n",
    "    {\n",
    "        BasketItem? toRemove = null;\n",
    "        foreach (var i in _items)\n",
    "        {\n",
    "            if (i.ProductId == productId) { toRemove = i; break; }\n",
    "        }\n",
    "        return toRemove != null && _items.Remove(toRemove);\n",
    "    }\n",
    "}"
   ]
  },
  {
   "cell_type": "markdown",
   "id": "d7bb7a5b",
   "metadata": {},
   "source": [
    "Why `ICollection<T>` internally: the basket *mutates*. Why `IReadOnlyCollection<T>` externally: consumers can read and count, but not modify.\n",
    "\n",
    "### 3) API surface returning read‑only data"
   ]
  },
  {
   "cell_type": "code",
   "execution_count": null,
   "id": "fbe4aa49",
   "metadata": {},
   "outputs": [],
   "source": [
    "// Program.cs\n",
    "CourseCatalog catalog = new();\n",
    "\n",
    "foreach (var course in catalog.ListCourses())\n",
    "{\n",
    "    Console.WriteLine($\"{course.Title} by {course.Instructor}\");\n",
    "}\n",
    "\n",
    "// Course.cs\n",
    "public class Course\n",
    "{\n",
    "    public required string Title { get; set; }\n",
    "    public required string Instructor { get; set; }\n",
    "}\n",
    "\n",
    "// ICourseCatalog.cs\n",
    "public interface ICourseCatalog\n",
    "{\n",
    "    IReadOnlyCollection<Course> ListCourses();\n",
    "}\n",
    "\n",
    "// CourseCatalog.cs\n",
    "public class CourseCatalog : ICourseCatalog\n",
    "{\n",
    "    private readonly List<Course> _courses = new()\n",
    "    {\n",
    "        new() { Title = \"C# Basics\", Instructor = \"John Doe\" },\n",
    "        new() { Title = \"Advanced C#\", Instructor = \"Jane Smith\" }\n",
    "    };\n",
    "\n",
    "    public IReadOnlyCollection<Course> ListCourses()\n",
    "    {\n",
    "        return _courses.AsReadOnly();\n",
    "    }\n",
    "}"
   ]
  },
  {
   "cell_type": "markdown",
   "id": "f0ed11ac",
   "metadata": {},
   "source": [
    "Why `IReadOnlyCollection<T>`: callers can iterate and know the `Count` without being able to change the returned collection. Here we are creating a custom interface that our `CourseCatalog` class implements.\n",
    "\n",
    "## IEnumerable and lazy vs eager evaluation\n",
    "\n",
    "`IEnumerable<T>` can be *more performant for iteration* because it supports **lazy evaluation**. Lazy evaluation means elements are produced **on demand** as you iterate, instead of being computed and stored up front.\n",
    "\n",
    "### Lazy evaluation example"
   ]
  },
  {
   "cell_type": "code",
   "execution_count": null,
   "id": "46aeb5f0",
   "metadata": {},
   "outputs": [],
   "source": [
    "static IEnumerable<int> GenerateNumbersLazy(int count)\n",
    "{\n",
    "    for (int i = 0; i < count; i++)\n",
    "    {\n",
    "        Console.WriteLine($\"[Lazy] Generating {i}\");\n",
    "        yield return i; // generated on demand\n",
    "    }\n",
    "}\n",
    "\n",
    "Console.WriteLine(\"=== Using Lazy (IEnumerable) ===\");\n",
    "var lazy = GenerateNumbersLazy(10); // nothing executed yet\n",
    "foreach (var x in lazy.Take(3)) // only generates 3 numbers\n",
    "{\n",
    "    Console.WriteLine($\"Using {x}\");\n",
    "}"
   ]
  },
  {
   "cell_type": "markdown",
   "id": "07399152",
   "metadata": {},
   "source": [
    "Here, the iterator method with `yield return` produces values only as the `foreach` asks for them.\n",
    "\n",
    "### Eager evaluation example (materialise first)"
   ]
  },
  {
   "cell_type": "code",
   "execution_count": null,
   "id": "c0eac19e",
   "metadata": {},
   "outputs": [],
   "source": [
    "static List<int> GenerateNumbersEager(int count)\n",
    "{\n",
    "    var list = new List<int>();\n",
    "    for (int i = 0; i < count; i++)\n",
    "    {\n",
    "        Console.WriteLine($\"[Eager] Generating {i}\");\n",
    "        list.Add(i); // everything computed right now\n",
    "    }\n",
    "    return list;\n",
    "}\n",
    "\n",
    "Console.WriteLine(\"=== Using Eager (List) ===\");\n",
    "var eager = GenerateNumbersEager(10); // generates ALL 10 immediately\n",
    "foreach (var x in eager.Take(3)) // still only use 3\n",
    "{\n",
    "    Console.WriteLine($\"Using {x}\");\n",
    "}"
   ]
  },
  {
   "cell_type": "markdown",
   "id": "d66887b8",
   "metadata": {},
   "source": [
    "Eager materialisation computes and stores every value immediately. This can be wasteful when you only need a small slice.\n",
    "\n",
    "Lazy sequences shine for large (or potentially unbounded) data and when you expect to consume only part of the sequence. Try messing with the number passed to `GenerateNumbersEager` and `GenerateNumbersLazy` to understand why lazy evaluation is preferable!\n",
    "\n",
    "## Common pitfalls and tips\n",
    "\n",
    "- **Do not** expose `ICollection<T>` publicly unless callers are meant to mutate it.\n",
    "- **Do** prefer `IEnumerable<T>` for parameters; it maximises flexibility for callers.\n",
    "- If your method needs `Count` and nothing else, prefer `IReadOnlyCollection<T>` to signal that you will not mutate.\n",
    "- Be mindful of **deferred execution** with iterator methods and many sequence providers; materialise to a concrete list when you need a stable snapshot or multiple passes.\n",
    "\n",
    "## Mini checklist\n",
    "\n",
    "- Reading only → **`IEnumerable<T>` parameter**.\n",
    "- Need `Count` but no mutation → **`IReadOnlyCollection<T>` return type**.\n",
    "- Managing items internally → **`ICollection<T>` field** plus read‑only exposure."
   ]
  }
 ],
 "metadata": {
  "kernelspec": {
   "display_name": ".NET (C#)",
   "language": "C#",
   "name": ".net-csharp"
  },
  "language_info": {
   "name": "polyglot-notebook"
  },
  "polyglot_notebook": {
   "kernelInfo": {
    "defaultKernelName": "csharp",
    "items": [
     {
      "aliases": [],
      "name": "csharp"
     }
    ]
   }
  }
 },
 "nbformat": 4,
 "nbformat_minor": 5
}
