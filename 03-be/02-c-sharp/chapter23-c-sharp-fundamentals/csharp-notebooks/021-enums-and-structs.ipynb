{
 "cells": [
  {
   "cell_type": "markdown",
   "id": "6083eb0c",
   "metadata": {},
   "source": [
    "# Enums and Structs\n",
    "\n",
    "In this lecture, we focus on two important value types: **enums** and **structs**. You will see how to define them, when to use them, and some modern features like **readonly structs**, **record structs**, and **non-destructive mutation**.\n",
    "\n",
    "## Enums\n",
    "\n",
    "An **enum** defines a set of named constants. Use them when you want to represent a fixed set of options."
   ]
  },
  {
   "cell_type": "code",
   "execution_count": null,
   "id": "46fc93ea",
   "metadata": {},
   "outputs": [],
   "source": [
    "DayOfWeek today = DayOfWeek.Monday;\n",
    "\n",
    "if (today == DayOfWeek.Monday)\n",
    "{\n",
    "    Console.WriteLine(\"Start of the week!\");\n",
    "}\n",
    "\n",
    "enum DayOfWeek { Monday, Tuesday, Wednesday, Thursday, Friday, Saturday, Sunday }"
   ]
  },
  {
   "cell_type": "markdown",
   "id": "09eb8b20",
   "metadata": {},
   "source": [
    "**Why use enums?**\n",
    "\n",
    "- Improves readability (names instead of magic numbers).\n",
    "- Ensures only valid values are used.\n",
    "- Works well with `switch` statements."
   ]
  },
  {
   "cell_type": "code",
   "execution_count": null,
   "id": "bd79a723",
   "metadata": {},
   "outputs": [],
   "source": [
    "DayOfWeek today = DayOfWeek.Monday;\n",
    "\n",
    "switch (today)\n",
    "{\n",
    "    case DayOfWeek.Saturday:\n",
    "    case DayOfWeek.Sunday:\n",
    "        Console.WriteLine(\"It's the weekend!\");\n",
    "        break;\n",
    "    default:\n",
    "        Console.WriteLine(\"It's a weekday.\");\n",
    "        break;\n",
    "}\n",
    "\n",
    "enum DayOfWeek { Monday, Tuesday, Wednesday, Thursday, Friday, Saturday, Sunday }"
   ]
  },
  {
   "cell_type": "markdown",
   "id": "d45db882",
   "metadata": {},
   "source": [
    "## Structs\n",
    "\n",
    "A **struct** is a value type that groups related data together. Structs are copied by value instead of by reference."
   ]
  },
  {
   "cell_type": "code",
   "execution_count": null,
   "id": "a78f995f",
   "metadata": {},
   "outputs": [],
   "source": [
    "// Structs are passed by value\n",
    "var p1 = new Point { X = 5, Y = 10 };\n",
    "var p2 = new Point { X = 5, Y = 10 };\n",
    "\n",
    "Console.WriteLine(p1.Equals(p2)); // Output: True\n",
    "\n",
    "struct Point\n",
    "{\n",
    "    public int X;\n",
    "    public int Y;\n",
    "}"
   ]
  },
  {
   "cell_type": "markdown",
   "id": "55197203",
   "metadata": {},
   "source": [
    "## Readonly Structs\n",
    "\n",
    "Marking a struct as `readonly` makes it immutable by default. This improves performance and makes your code safer."
   ]
  },
  {
   "cell_type": "code",
   "execution_count": null,
   "id": "9d83e2c4",
   "metadata": {},
   "outputs": [],
   "source": [
    "var c1 = new Coordinate(3, 4);\n",
    "// c1.X = 5; // ❌ Not allowed because struct is readonly\n",
    "\n",
    "public readonly struct Coordinate\n",
    "{\n",
    "    public int X { get; }\n",
    "    public int Y { get; }\n",
    "\n",
    "    public Coordinate(int x, int y)\n",
    "    {\n",
    "        X = x;\n",
    "        Y = y;\n",
    "    }\n",
    "}"
   ]
  },
  {
   "cell_type": "markdown",
   "id": "fccf599f",
   "metadata": {},
   "source": [
    "## Record Structs\n",
    "\n",
    "A **record struct** combines the benefits of structs (value type semantics) with records (concise syntax and value-based equality). Unlike a normal `record` (which is a reference type), a `record struct` is a value type."
   ]
  },
  {
   "cell_type": "code",
   "execution_count": null,
   "id": "8e2de91b",
   "metadata": {},
   "outputs": [],
   "source": [
    "var r1 = new PointRecord(5, 10);\n",
    "var r2 = new PointRecord(5, 10);\n",
    "Console.WriteLine(r1 == r2); // True (compares values)\n",
    "\n",
    "public record struct PointRecord(int X, int Y);"
   ]
  },
  {
   "cell_type": "markdown",
   "id": "b356cac5",
   "metadata": {},
   "source": [
    "You can also declare them as **readonly record struct** to enforce immutability:"
   ]
  },
  {
   "cell_type": "code",
   "execution_count": null,
   "id": "8033080b",
   "metadata": {},
   "outputs": [],
   "source": [
    "var s1 = new Size(100, 200);\n",
    "var s2 = new Size(100, 200);\n",
    "Console.WriteLine(s1 == s2); // True\n",
    "\n",
    "public readonly record struct Size(int Width, int Height);"
   ]
  },
  {
   "cell_type": "markdown",
   "id": "f6797cca",
   "metadata": {},
   "source": [
    "## Non-destructive Mutation with Record Structs\n",
    "\n",
    "Record structs support **non-destructive mutation** using the `with` expression, just like records."
   ]
  },
  {
   "cell_type": "code",
   "execution_count": null,
   "id": "8062d5b5",
   "metadata": {},
   "outputs": [],
   "source": [
    "var s1 = new Size(100, 200);\n",
    "var s2 = new Size(100, 200);\n",
    "\n",
    "var s3 = s1 with { Width = 150 }; // creates a new Size, s1 remains unchanged\n",
    "Console.WriteLine(s1.Width); // 100\n",
    "Console.WriteLine(s3.Width); // 150\n",
    "\n",
    "public readonly record struct Size(int Width, int Height);"
   ]
  },
  {
   "cell_type": "markdown",
   "id": "fc4ea540",
   "metadata": {},
   "source": [
    "## When to Use\n",
    "\n",
    "| Type | When to Use |\n",
    "| --- | --- |\n",
    "| **Enum** | Fixed set of related values (days, states, error codes). |\n",
    "| **Struct** | Small, lightweight aggregates where copying by value is desired. |\n",
    "| **Readonly Struct** | Immutable value types for safety and performance. |\n",
    "| **Record Struct** | Immutable value-type models with value-based equality and non-destructive mutation. |"
   ]
  }
 ],
 "metadata": {
  "kernelspec": {
   "display_name": ".NET (C#)",
   "language": "C#",
   "name": ".net-csharp"
  },
  "language_info": {
   "name": "polyglot-notebook"
  },
  "polyglot_notebook": {
   "kernelInfo": {
    "defaultKernelName": "csharp",
    "items": [
     {
      "aliases": [],
      "name": "csharp"
     }
    ]
   }
  }
 },
 "nbformat": 4,
 "nbformat_minor": 5
}
