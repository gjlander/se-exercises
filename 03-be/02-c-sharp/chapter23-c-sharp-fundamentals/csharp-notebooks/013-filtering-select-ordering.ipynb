{
 "cells": [
  {
   "cell_type": "markdown",
   "id": "201906e0",
   "metadata": {},
   "source": [
    "# Filtering, Select, Ordering\n",
    "\n",
    "Now that you know what LINQ is, let's practise the three most common operations you'll use with in‑memory collections that implement `IEnumerable<T>`.\n",
    "\n",
    "- **Filtering** keeps only the items you want.\n",
    "- **Selecting** (projection) transforms each item into a new shape.\n",
    "- **Ordering** sorts the results."
   ]
  },
  {
   "cell_type": "markdown",
   "id": "9cbbb470",
   "metadata": {},
   "source": [
    "## Sample data"
   ]
  },
  {
   "cell_type": "code",
   "execution_count": null,
   "id": "84fe55bc",
   "metadata": {},
   "outputs": [],
   "source": [
    "// Program.cs (top-level)\n",
    "var products = new List<Product>\n",
    "{\n",
    "    new Product { Name = \"Mug\",        Category = \"Kitchen\", Price = 6.50m,  InStock = true  },\n",
    "    new Product { Name = \"Notebook\",   Category = \"Stationery\", Price = 3.20m, InStock = true  },\n",
    "    new Product { Name = \"Pen\",        Category = \"Stationery\", Price = 1.80m, InStock = false },\n",
    "    new Product { Name = \"Tea Kettle\", Category = \"Kitchen\", Price = 24.90m, InStock = true  },\n",
    "    new Product { Name = \"Lamp\",       Category = \"Home\", Price = 18.00m, InStock = false }\n",
    "};\n",
    "\n",
    "// Product.cs\n",
    "public class Product\n",
    "{\n",
    "    public string Name { get; set; } = string.Empty;\n",
    "    public string Category { get; set; } = string.Empty;\n",
    "    public decimal Price { get; set; }\n",
    "    public bool InStock { get; set; }\n",
    "}"
   ]
  },
  {
   "cell_type": "markdown",
   "id": "74d7b65f",
   "metadata": {},
   "source": [
    "## Filtering with `Where`"
   ]
  },
  {
   "cell_type": "code",
   "execution_count": null,
   "id": "de4bf1eb",
   "metadata": {},
   "outputs": [],
   "source": [
    "// Program.cs (top-level)\n",
    "var products = new List<Product>\n",
    "{\n",
    "    new Product { Name = \"Mug\",        Category = \"Kitchen\", Price = 6.50m,  InStock = true  },\n",
    "    new Product { Name = \"Notebook\",   Category = \"Stationery\", Price = 3.20m, InStock = true  },\n",
    "    new Product { Name = \"Pen\",        Category = \"Stationery\", Price = 1.80m, InStock = false },\n",
    "    new Product { Name = \"Tea Kettle\", Category = \"Kitchen\", Price = 24.90m, InStock = true  },\n",
    "    new Product { Name = \"Lamp\",       Category = \"Home\", Price = 18.00m, InStock = false }\n",
    "};\n",
    "// In-stock stationery only\n",
    "var inStockStationery = products\n",
    "    .Where(p => p.Category == \"Stationery\" && p.InStock);\n",
    "\n",
    "foreach (var p in inStockStationery)\n",
    "{\n",
    "    Console.WriteLine($\"{p.Name} (£{p.Price:0.00})\");\n",
    "}\n",
    "\n",
    "// Product.cs\n",
    "public class Product\n",
    "{\n",
    "    public string Name { get; set; } = string.Empty;\n",
    "    public string Category { get; set; } = string.Empty;\n",
    "    public decimal Price { get; set; }\n",
    "    public bool InStock { get; set; }\n",
    "}\n"
   ]
  },
  {
   "cell_type": "markdown",
   "id": "b59d0ff9",
   "metadata": {},
   "source": [
    "**Tip:** Combine conditions with `&&` (and), `||` (or). Use `StringComparison` if you need case‑insensitive checks."
   ]
  },
  {
   "cell_type": "markdown",
   "id": "2fe65cb1",
   "metadata": {},
   "source": [
    "## Selecting (projection) with `Select`"
   ]
  },
  {
   "cell_type": "code",
   "execution_count": null,
   "id": "46eb9f55",
   "metadata": {},
   "outputs": [],
   "source": [
    "// Program.cs (top-level)\n",
    "var products = new List<Product>\n",
    "{\n",
    "    new Product { Name = \"Mug\",        Category = \"Kitchen\", Price = 6.50m,  InStock = true  },\n",
    "    new Product { Name = \"Notebook\",   Category = \"Stationery\", Price = 3.20m, InStock = true  },\n",
    "    new Product { Name = \"Pen\",        Category = \"Stationery\", Price = 1.80m, InStock = false },\n",
    "    new Product { Name = \"Tea Kettle\", Category = \"Kitchen\", Price = 24.90m, InStock = true  },\n",
    "    new Product { Name = \"Lamp\",       Category = \"Home\", Price = 18.00m, InStock = false }\n",
    "};\n",
    "// Project to just names\n",
    "var names = products.Select(p => p.Name);\n",
    "foreach (var name in names) Console.WriteLine(name);\n",
    "\n",
    "// Project to an anonymous type (shaping data for the UI)\n",
    "var display = products.Select(p => new { p.Name, PriceWithVat = p.Price * 1.20m });\n",
    "foreach (var d in display) Console.WriteLine($\"{d.Name} → £{d.PriceWithVat:0.00}\");\n",
    "\n",
    "// Project to a DTO/record if you prefer strong types\n",
    "var cards = products.Select(p => new ProductCard(p.Name, p.Price));\n",
    "foreach (var c in cards) Console.WriteLine($\"{c.Title} (£{c.Price:0.00})\");\n",
    "\n",
    "// Product.cs\n",
    "public class Product\n",
    "{\n",
    "    public string Name { get; set; } = string.Empty;\n",
    "    public string Category { get; set; } = string.Empty;\n",
    "    public decimal Price { get; set; }\n",
    "    public bool InStock { get; set; }\n",
    "}\n",
    "// ProductCard.cs\n",
    "public record ProductCard(string Title, decimal Price);"
   ]
  },
  {
   "cell_type": "markdown",
   "id": "0cd89d63",
   "metadata": {},
   "source": [
    "## Ordering with `OrderBy`, `ThenBy`, and descending variants"
   ]
  },
  {
   "cell_type": "code",
   "execution_count": null,
   "id": "48665055",
   "metadata": {},
   "outputs": [],
   "source": [
    "// In Program.cs\n",
    "// Order by price ascending\n",
    "var byPrice = products.OrderBy(p => p.Price);\n",
    "foreach (var p in byPrice) Console.WriteLine($\"{p.Name} £{p.Price:0.00}\");\n",
    "\n",
    "// Order by category, then price within each category\n",
    "var byCategoryThenPrice = products\n",
    "    .OrderBy(p => p.Category)\n",
    "    .ThenBy(p => p.Price);\n",
    "foreach (var p in byCategoryThenPrice) Console.WriteLine($\"{p.Category} – {p.Name} £{p.Price:0.00}\");\n",
    "\n",
    "// Highest price first\n",
    "var expensiveFirst = products.OrderByDescending(p => p.Price);\n",
    "foreach (var p in expensiveFirst) Console.WriteLine($\"£{p.Price:0.00} – {p.Name}\");"
   ]
  },
  {
   "cell_type": "markdown",
   "id": "f78e61ab",
   "metadata": {},
   "source": [
    "**Tip:** Ordering does not change the original list; it returns a new ordered sequence. If you need a materialised list, call `.ToList()` at the end."
   ]
  },
  {
   "cell_type": "markdown",
   "id": "a4a4e89c",
   "metadata": {},
   "source": [
    "## Chaining operations\n",
    "\n",
    "You'll often chain filter → select → order for clear intent."
   ]
  },
  {
   "cell_type": "code",
   "execution_count": null,
   "id": "16d8dce1",
   "metadata": {},
   "outputs": [],
   "source": [
    "// Program.cs (top-level)\n",
    "var products = new List<Product>\n",
    "{\n",
    "    new Product { Name = \"Mug\",        Category = \"Kitchen\", Price = 6.50m,  InStock = true  },\n",
    "    new Product { Name = \"Notebook\",   Category = \"Stationery\", Price = 3.20m, InStock = true  },\n",
    "    new Product { Name = \"Pen\",        Category = \"Stationery\", Price = 1.80m, InStock = false },\n",
    "    new Product { Name = \"Tea Kettle\", Category = \"Kitchen\", Price = 24.90m, InStock = true  },\n",
    "    new Product { Name = \"Lamp\",       Category = \"Home\", Price = 18.00m, InStock = false }\n",
    "};\n",
    "\n",
    "// In Program.cs\n",
    "var topKitchenNames = products\n",
    "    .Where(p => p.Category == \"Kitchen\" && p.InStock)\n",
    "    .OrderByDescending(p => p.Price)\n",
    "    .Select(p => p.Name)\n",
    "    .Take(3)          // optional: limit the result\n",
    "    .ToList();        // materialise to a list if needed but you lose lazy evaluation\n",
    "\n",
    "foreach (var name in topKitchenNames) Console.WriteLine(name);\n",
    "\n",
    "// Product.cs\n",
    "public class Product\n",
    "{\n",
    "    public string Name { get; set; } = string.Empty;\n",
    "    public string Category { get; set; } = string.Empty;\n",
    "    public decimal Price { get; set; }\n",
    "    public bool InStock { get; set; }\n",
    "}"
   ]
  },
  {
   "cell_type": "markdown",
   "id": "b6794b39",
   "metadata": {},
   "source": [
    "## Summary\n",
    "\n",
    "- **Filter** with `Where`, **shape** with `Select`, **sort** with `OrderBy/ThenBy`.\n",
    "- LINQ works on any `IEnumerable<T>` (arrays, lists, etc.).\n",
    "- Method chains read from left to right, making intent clear.\n",
    "- Materialise with `.ToList()` only when you need a list; otherwise keep it as an `IEnumerable<T>`."
   ]
  }
 ],
 "metadata": {
  "kernelspec": {
   "display_name": ".NET (C#)",
   "language": "C#",
   "name": ".net-csharp"
  },
  "language_info": {
   "name": "polyglot-notebook"
  },
  "polyglot_notebook": {
   "kernelInfo": {
    "defaultKernelName": "csharp",
    "items": [
     {
      "aliases": [],
      "name": "csharp"
     }
    ]
   }
  }
 },
 "nbformat": 4,
 "nbformat_minor": 5
}
