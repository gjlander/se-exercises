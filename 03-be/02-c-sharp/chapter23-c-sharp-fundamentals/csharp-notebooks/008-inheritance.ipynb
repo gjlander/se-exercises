{
  "cells": [
    {
      "cell_type": "markdown",
      "id": "b852a826",
      "metadata": {},
      "source": [
        "# Inheritance\n",
        "\n",
        "Inheritance is the mechanism in object‑oriented programming that allows a class to **reuse attributes and methods** from another class. The class that provides functionality is called the **base class**, and the class that derives from it is called the **derived class**.\n",
        "\n",
        "With inheritance, you avoid repeating code and can build hierarchies of related classes.\n",
        "\n",
        "### Why inheritance?\n",
        "\n",
        "- **Reuse:** Share fields and methods across multiple classes.\n",
        "- **Extension:** Derived classes add new behaviour without rewriting everything.\n",
        "- **Polymorphism:** A derived class can override base methods to change behaviour.\n",
        "- **Sealing:** You can prevent further inheritance when needed (`sealed` classes or `sealed` overrides).\n",
        "- **Composition vs inheritance:** Prefer composition when a \"has‑a\" relationship fits better (e.g., a ticket *has a* QR code) to avoid overly rigid hierarchies.\n",
        "\n",
        "### Hiding vs overriding\n",
        "\n",
        "In C#, there are two strategies when a derived class provides its own implementation of a member from the base class:\n",
        "\n",
        "- **Hiding** with the `new` keyword. The base member still exists, but the derived class introduces a new one with the same name. Calls depend on the variable type. This binding happens at compile time. If we forget the `new` keyword to hide, the compiler will warn us."
      ]
    },
    {
      "cell_type": "code",
      "execution_count": 1,
      "id": "6d999564",
      "metadata": {
        "language_info": {
          "name": "polyglot-notebook"
        },
        "polyglot_notebook": {
          "kernelName": "csharp"
        }
      },
      "outputs": [
        {
          "name": "stdout",
          "output_type": "stream",
          "text": [
            "Base.Show\n",
            "Derived.Show\n"
          ]
        }
      ],
      "source": [
        "// Hiding example\n",
        "public class Base\n",
        "{\n",
        "    public void Show() => Console.WriteLine(\"Base.Show\");\n",
        "}\n",
        "\n",
        "public class Derived : Base\n",
        "{\n",
        "    public new void Show() => Console.WriteLine(\"Derived.Show\");\n",
        "}\n",
        "\n",
        "// Usage example\n",
        "Base b = new Derived();\n",
        "b.Show(); // prints \"Base.Show\"\n",
        "\n",
        "Derived d = new Derived();\n",
        "d.Show(); // prints \"Derived.Show\""
      ]
    },
    {
      "cell_type": "markdown",
      "id": "d9200bbc",
      "metadata": {},
      "source": [
        "- **Overriding** with the `override` keyword. This replaces the base member's behaviour at runtime, enabling polymorphism. This happens when we declare a method a `virtual` in the base class and `override` it in the derived class:"
      ]
    },
    {
      "cell_type": "code",
      "execution_count": null,
      "id": "7cd9b517",
      "metadata": {
        "language_info": {
          "name": "polyglot-notebook"
        },
        "polyglot_notebook": {
          "kernelName": "csharp"
        }
      },
      "outputs": [],
      "source": [
        "// Overriding example\n",
        "public class Base\n",
        "{\n",
        "    public virtual void Show() => Console.WriteLine(\"Base.Show\");\n",
        "}\n",
        "\n",
        "public class Derived : Base\n",
        "{\n",
        "    public override void Show() => Console.WriteLine(\"Derived.Show\");\n",
        "}\n",
        "\n",
        "// Usage example\n",
        "Base b = new Derived();\n",
        "b.Show(); // prints \"Derived.Show\"\n",
        "\n",
        "Derived d = (Derived)b;\n",
        "d.Show(); // prints \"Derived.Show\""
      ]
    },
    {
      "cell_type": "markdown",
      "id": "c18cac82",
      "metadata": {},
      "source": [
        "In practice we will mostly use **overriding** because it gives us true polymorphism, which is the subject of the next lecture.\n",
        "\n",
        "Overriding is obviously also possible when inheriting from an abstract class: a class that cannot be instantiated directly (you can't do new MyAbstractClass()), and can contain abstract members (methods/properties with no implementation — just a contract) and concrete members (normal methods, fields, properties with implementations)."
      ]
    },
    {
      "cell_type": "code",
      "execution_count": null,
      "id": "86aa541c",
      "metadata": {
        "language_info": {
          "name": "polyglot-notebook"
        },
        "polyglot_notebook": {
          "kernelName": "csharp"
        }
      },
      "outputs": [],
      "source": [
        "// Abstract class example\n",
        "abstract class Base\n",
        "{\n",
        "    public abstract void Show();\n",
        "}\n",
        "\n",
        "class Derived : Base\n",
        "{\n",
        "    public override void Show()\n",
        "    {\n",
        "        Console.WriteLine(\"Derived.Show\");\n",
        "    }\n",
        "}\n",
        "\n",
        "// Usage example\n",
        "Base b = new Derived();\n",
        "b.Show(); // prints \"Derived.Show\"\n",
        "\n",
        "Derived d = (Derived)b;\n",
        "d.Show(); // prints \"Derived.Show\""
      ]
    },
    {
      "cell_type": "markdown",
      "id": "30ccd049",
      "metadata": {},
      "source": [
        "### What is inherited and what can be overridden\n",
        "\n",
        "| Feature | Inherited? | Overridable? |\n",
        "| --- | --- | --- |\n",
        "| Fields & auto‑properties | Yes | No (but can be hidden) |\n",
        "| Methods (non‑virtual) | Yes | No |\n",
        "| Methods (virtual/abstract) | Yes | **Yes** via `override` |\n",
        "| Constructors | No | — |\n",
        "| Events & indexers | Yes | Yes if declared `virtual` |\n",
        "| Static members | Yes (accessible) | No (cannot override) |\n",
        "\n",
        "### Example: Tickets\n",
        "\n",
        "Let's model tickets for different events."
      ]
    },
    {
      "cell_type": "code",
      "execution_count": null,
      "id": "82c3295b",
      "metadata": {
        "language_info": {
          "name": "polyglot-notebook"
        },
        "polyglot_notebook": {
          "kernelName": "csharp"
        }
      },
      "outputs": [],
      "source": [
        "// Base Ticket class\n",
        "public class Ticket\n",
        "{\n",
        "    public string Holder { get; set; }\n",
        "    public decimal Price { get; set; }\n",
        "\n",
        "    public Ticket(string holder, decimal price)\n",
        "    {\n",
        "        Holder = holder;\n",
        "        Price = price;\n",
        "    }\n",
        "\n",
        "    public virtual void PrintInfo()\n",
        "    {\n",
        "        Console.WriteLine($\"Ticket for {Holder}, Price: {Price:C}\");\n",
        "    }\n",
        "}"
      ]
    },
    {
      "cell_type": "markdown",
      "id": "14e049c4",
      "metadata": {},
      "source": [
        "The `Ticket` class is our **base class**. Now, let's derive more specific types of tickets:"
      ]
    },
    {
      "cell_type": "code",
      "execution_count": null,
      "id": "e1c2b1ba",
      "metadata": {
        "language_info": {
          "name": "polyglot-notebook"
        },
        "polyglot_notebook": {
          "kernelName": "csharp"
        }
      },
      "outputs": [],
      "source": [
        "// TrainTicket derived class\n",
        "public class TrainTicket : Ticket\n",
        "{\n",
        "    public string Destination { get; set; }\n",
        "\n",
        "    public TrainTicket(string holder, decimal price, string destination)\n",
        "        : base(holder, price)\n",
        "    {\n",
        "        Destination = destination;\n",
        "    }\n",
        "\n",
        "    public override void PrintInfo()\n",
        "    {\n",
        "        Console.WriteLine($\"Train Ticket for {Holder}, Destination: {Destination}, Price: {Price:C}\");\n",
        "    }\n",
        "}"
      ]
    },
    {
      "cell_type": "code",
      "execution_count": null,
      "id": "85c88b0b",
      "metadata": {
        "language_info": {
          "name": "polyglot-notebook"
        },
        "polyglot_notebook": {
          "kernelName": "csharp"
        }
      },
      "outputs": [],
      "source": [
        "// ConcertTicket derived class\n",
        "public class ConcertTicket : Ticket\n",
        "{\n",
        "    public string Band { get; set; }\n",
        "\n",
        "    public ConcertTicket(string holder, decimal price, string band)\n",
        "        : base(holder, price)\n",
        "    {\n",
        "        Band = band;\n",
        "    }\n",
        "\n",
        "    public override void PrintInfo()\n",
        "    {\n",
        "        Console.WriteLine($\"Concert Ticket for {Holder}, Band: {Band}, Price: {Price:C}\");\n",
        "    }\n",
        "}"
      ]
    },
    {
      "cell_type": "markdown",
      "id": "08082979",
      "metadata": {},
      "source": [
        "### Usage"
      ]
    },
    {
      "cell_type": "code",
      "execution_count": null,
      "id": "3d0c141f",
      "metadata": {
        "language_info": {
          "name": "polyglot-notebook"
        },
        "polyglot_notebook": {
          "kernelName": "csharp"
        }
      },
      "outputs": [],
      "source": [
        "var generic = new Ticket(\"Lina\", 20);\n",
        "generic.PrintInfo();\n",
        "\n",
        "var concert = new ConcertTicket(\"Omar\", 50, \"The Blue Notes\");\n",
        "concert.PrintInfo();\n",
        "\n",
        "var train = new TrainTicket(\"Nora\", 15, \"Berlin\");\n",
        "train.PrintInfo();"
      ]
    },
    {
      "cell_type": "markdown",
      "id": "3b4c0922",
      "metadata": {},
      "source": [
        "### Explanation\n",
        "\n",
        "- `Ticket` is the **base class** with common properties (`Holder`, `Price`) and a virtual method `PrintInfo()`.\n",
        "- `ConcertTicket` and `TrainTicket` are **derived classes** that extend the base class and override `PrintInfo()` to provide more specific details.\n",
        "- The `: base(...)` call in constructors lets derived classes initialise the base class.\n",
        "- The `base.PrintInfo()` call shows how derived classes can reuse base logic and then add their own.\n",
        "\n",
        "### Sealed classes and methods\n",
        "\n",
        "- A **sealed class** cannot be inherited from.\n",
        "- A **sealed method** cannot be overridden further in derived classes.\n",
        "\n",
        "```csharp\n",
        "public sealed class VIPPass : Ticket { /* cannot be used as a base class */ }\n",
        "```\n",
        "\n",
        "### Inheritance vs composition\n",
        "\n",
        "While inheritance is powerful, overusing it can lead to rigid hierarchies. Often it’s better to use **composition**—for example, a `Reservation` class that *contains* a `Ticket` rather than *inherits* from it. Composition tends to be more flexible and avoids deep inheritance chains.\n",
        "\n",
        "### Key takeaway\n",
        "\n",
        "Inheritance allows you to build on existing classes instead of starting from scratch. It’s a cornerstone of OOP in C#, enabling code reuse, clarity, and flexibility. Use it when a clear “is‑a” relationship exists, and prefer composition when you just need to reuse behaviour."
      ]
    }
  ],
  "metadata": {
    "kernelspec": {
      "display_name": ".NET (C#)",
      "language": "C#",
      "name": ".net-csharp"
    },
    "language_info": {
      "name": "polyglot-notebook"
    },
    "polyglot_notebook": {
      "kernelInfo": {
        "defaultKernelName": "csharp",
        "items": [
          {
            "aliases": [],
            "languageName": "csharp",
            "name": "csharp"
          }
        ]
      }
    }
  },
  "nbformat": 4,
  "nbformat_minor": 5
}
