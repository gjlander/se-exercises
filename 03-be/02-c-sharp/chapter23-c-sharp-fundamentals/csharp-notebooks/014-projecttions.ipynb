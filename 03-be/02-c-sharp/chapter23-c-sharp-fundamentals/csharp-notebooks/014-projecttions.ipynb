{
 "cells": [
  {
   "cell_type": "markdown",
   "id": "6c94467f",
   "metadata": {},
   "source": [
    "# Projections\n",
    "\n",
    "Before diving into these operators, let's talk about what a **projection** is. A projection is the act of taking each element of a sequence and transforming it into a new form. In other words, you \"project\" objects into a different shape: maybe just one property, a calculated value, or a new type altogether. LINQ provides operators like `Select` and `SelectMany` to express these projections clearly.\n",
    "\n",
    "So far, we have used `Select` for projections. LINQ also provides `SelectMany` for flattening collections and `Zip` for combining sequences. Each of these operators can be written in **method form** (also called function syntax) or in **query expression form** where applicable. Let's explore these three operators."
   ]
  },
  {
   "cell_type": "markdown",
   "id": "41330c8d",
   "metadata": {},
   "source": [
    "## Select\n",
    "\n",
    "`Select` transforms each element of the input sequence into a new form, based on a function you provide. In other words, for every input item you get exactly one output item, shaped as you decide."
   ]
  },
  {
   "cell_type": "code",
   "execution_count": null,
   "id": "baa8ca9e",
   "metadata": {},
   "outputs": [],
   "source": [
    "// Program.cs (top-level)\n",
    "var numbers = new List<int> { 1, 2, 3 };\n",
    "var squares = numbers.Select(n => n * n);\n",
    "foreach (var s in squares) Console.WriteLine(s);"
   ]
  },
  {
   "cell_type": "markdown",
   "id": "5f3788e5",
   "metadata": {},
   "source": [
    "This produces:\n",
    "\n",
    "```\n",
    "1\n",
    "4\n",
    "9\n",
    "```\n",
    "\n",
    "**Query expression equivalent:**"
   ]
  },
  {
   "cell_type": "code",
   "execution_count": null,
   "id": "82d8c579",
   "metadata": {
    "vscode": {
     "languageId": "csharp"
    }
   },
   "outputs": [],
   "source": [
    "var squaresQuery = from n in numbers select n * n;"
   ]
  },
  {
   "cell_type": "markdown",
   "id": "b72a8846",
   "metadata": {},
   "source": [
    "## SelectMany\n",
    "\n",
    "Instead of projecting each element into a single value, `SelectMany` projects each element into a **sequence** (like a list or array). It then automatically *flattens* all those inner sequences into one long sequence. In other words, it removes the extra nesting so you can work with all the values in a single loop."
   ]
  },
  {
   "cell_type": "code",
   "execution_count": null,
   "id": "a0a79e71",
   "metadata": {},
   "outputs": [],
   "source": [
    "// Program.cs (top-level)\n",
    "var students = new List<Student>\n",
    "{\n",
    "    new Student { Name = \"Ana\", Subjects = new List<string>{ \"Math\", \"Physics\" } },\n",
    "    new Student { Name = \"Ben\", Subjects = new List<string>{ \"History\" } },\n",
    "    new Student { Name = \"Cara\", Subjects = new List<string>{ \"Math\", \"Biology\", \"Chemistry\" } }\n",
    "};\n",
    "\n",
    "// Flatten all subjects into a single sequence\n",
    "var allSubjects = students.SelectMany(s => s.Subjects);\n",
    "foreach (var subj in allSubjects) Console.WriteLine(subj);\n",
    "\n",
    "// Student.cs\n",
    "public class Student\n",
    "{\n",
    "    public string Name { get; set; } = string.Empty;\n",
    "    public List<string> Subjects { get; set; } = new();\n",
    "}"
   ]
  },
  {
   "cell_type": "markdown",
   "id": "1d426ee3",
   "metadata": {},
   "source": [
    "Output:\n",
    "\n",
    "```\n",
    "Math\n",
    "Physics\n",
    "History\n",
    "Math\n",
    "Biology\n",
    "Chemistry\n",
    "```\n",
    "\n",
    "**Query expression equivalent:**"
   ]
  },
  {
   "cell_type": "code",
   "execution_count": null,
   "id": "6961d39b",
   "metadata": {
    "vscode": {
     "languageId": "csharp"
    }
   },
   "outputs": [],
   "source": [
    "var allSubjectsQuery = from s in students\n",
    "                       from subj in s.Subjects\n",
    "                       select subj;"
   ]
  },
  {
   "cell_type": "markdown",
   "id": "f828085e",
   "metadata": {},
   "source": [
    "## Zip\n",
    "\n",
    "`Zip` takes two (or three) sequences and walks them in parallel, pairing elements at the same position together. The result is a new sequence of tuples (or whatever you project them into) created element by element."
   ]
  },
  {
   "cell_type": "code",
   "execution_count": null,
   "id": "3279904b",
   "metadata": {},
   "outputs": [],
   "source": [
    "// Program.cs (top-level)\n",
    "var numbers = new List<int> { 1, 2, 3 };\n",
    "var words = new List<string> { \"one\", \"two\", \"three\" };\n",
    "\n",
    "var zipped = numbers.Zip(words, (n, w) => $\"{n} = {w}\");\n",
    "foreach (var z in zipped) Console.WriteLine(z);"
   ]
  },
  {
   "cell_type": "markdown",
   "id": "357ebc11",
   "metadata": {},
   "source": [
    "Output:\n",
    "\n",
    "```\n",
    "1 = one\n",
    "2 = two\n",
    "3 = three\n",
    "```\n",
    "\n",
    "**Note:** There is no query expression equivalent for `Zip`."
   ]
  },
  {
   "cell_type": "markdown",
   "id": "c1ff11dd",
   "metadata": {},
   "source": [
    "## Summary\n",
    "\n",
    "- **Select**: transforms each element individually.\n",
    "- **SelectMany**: flattens nested collections into one sequence.\n",
    "- **Zip**: pairs elements from two sequences into one combined result.\n",
    "\n",
    "These operators make it easier to shape and combine data with clear intent."
   ]
  }
 ],
 "metadata": {
  "kernelspec": {
   "display_name": ".NET (C#)",
   "language": "C#",
   "name": ".net-csharp"
  },
  "language_info": {
   "name": "polyglot-notebook"
  },
  "polyglot_notebook": {
   "kernelInfo": {
    "defaultKernelName": "csharp",
    "items": [
     {
      "aliases": [],
      "name": "csharp"
     }
    ]
   }
  }
 },
 "nbformat": 4,
 "nbformat_minor": 5
}
