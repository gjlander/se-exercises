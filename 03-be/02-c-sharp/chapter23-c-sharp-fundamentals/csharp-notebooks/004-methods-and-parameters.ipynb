{
 "cells": [
  {
   "cell_type": "markdown",
   "id": "c7d5b8c8",
   "metadata": {},
   "source": [
    "# Methods and Parameters\n",
    "\n",
    "C# is a multi‑paradigm language, but it is designed first with object‑oriented programming in mind. When you create a new console project with the current .NET templates, the scaffold uses [**top‑level statements**](https://learn.microsoft.com/en-us/dotnet/csharp/tutorials/top-level-statements) by default. This means you can write code straight into `Program.cs` without explicitly declaring a `Main` method or `Program` class. It makes getting started much quicker.\n",
    "\n",
    "However, you may still see the **traditional entry point** (`class Program` with a `Main` method) in documentation and older projects. It is important to recognise that form, but in practice most of your applications will use the top‑level style. This simplification only applies to the entry point: all your other files will still be **classes** that you organise in **namespaces**.\n",
    "\n",
    "### Example: Top‑level entry point"
   ]
  },
  {
   "cell_type": "code",
   "execution_count": 1,
   "id": "2ee46079",
   "metadata": {
    "language_info": {
     "name": "polyglot-notebook"
    },
    "polyglot_notebook": {
     "kernelName": "csharp"
    }
   },
   "outputs": [
    {
     "name": "stdout",
     "output_type": "stream",
     "text": [
      "Hello from top‑level statements!\n",
      "Hello, Alice\n"
     ]
    }
   ],
   "source": [
    "Console.WriteLine(\"Hello from top‑level statements!\");\n",
    "\n",
    "void SayHello(string name)\n",
    "{\n",
    "    Console.WriteLine($\"Hello, {name}\");\n",
    "}\n",
    "\n",
    "SayHello(\"Alice\");"
   ]
  },
  {
   "cell_type": "markdown",
   "id": "7bca7a54",
   "metadata": {},
   "source": [
    "### Traditional entry point (for reference)"
   ]
  },
  {
   "cell_type": "code",
   "execution_count": null,
   "id": "715177bd",
   "metadata": {
    "language_info": {
     "name": "polyglot-notebook"
    },
    "polyglot_notebook": {
     "kernelName": "csharp"
    }
   },
   "outputs": [
    {
     "name": "stdout",
     "output_type": "stream",
     "text": [
      "Hello from traditonal entry point!\n",
      "Hello, Hello from classic Main\n"
     ]
    }
   ],
   "source": [
    "public class Program\n",
    "{\n",
    "    static void SayHello(string name)\n",
    "    {\n",
    "        Console.WriteLine($\"Hello, {name}\");\n",
    "    }\n",
    "\n",
    "    public static void Main(string[] args)\n",
    "    {\n",
    "        Console.WriteLine(\"Hello from traditional entry point!\");\n",
    "        SayHello(\"Hello from classic Main\");\n",
    "    }\n",
    "}\n",
    "\n",
    "// Normally the framework would call Main, but we can call it ourselves here.\n",
    "Program.Main(Array.Empty<string>());"
   ]
  },
  {
   "cell_type": "markdown",
   "id": "c382301d",
   "metadata": {},
   "source": [
    "### Methods: the building blocks\n",
    "\n",
    "In C#, what many other languages call a *function* is always a **method** that belongs to a class. Even when you define a local function in a top‑level statement (like `SayHello` above), the compiler actually wraps it in a hidden `Program` class. That's why we discuss methods in the context of classes.\n",
    "\n",
    "A **method** performs an action and may return a value. The shape is:\n",
    "\n",
    "```\n",
    "[access] [static?] returnType Name(type param, ...)\n",
    "```\n",
    "\n",
    "**Access modifiers** define visibility:\n",
    "\n",
    "- `public` – accessible from anywhere.\n",
    "- `internal` – accessible only within the same assembly (an assembly is the compiled output of your project, such as a .dll or .exe).\n",
    "- `protected` – accessible within the class and its subclasses.\n",
    "- `private` – accessible only within the same class.\n",
    "- `protected internal` – accessible from the same assembly or subclasses.\n",
    "- `private protected` – accessible only from the same class or subclasses in the same assembly.\n",
    "- `file`– restricts the class or struct to the same source file.\n",
    "\n",
    "**Static** means the method belongs to the class itself rather than an instance. You call it with the class name (e.g. `Maths.Square(5)`) and it cannot access instance fields unless passed as arguments.\n",
    "\n",
    "```\n",
    "[access] [static?] returnType Name(type param, ...)\n",
    "```"
   ]
  },
  {
   "cell_type": "code",
   "execution_count": 3,
   "id": "c5caa403",
   "metadata": {
    "language_info": {
     "name": "polyglot-notebook"
    },
    "polyglot_notebook": {
     "kernelName": "csharp"
    }
   },
   "outputs": [
    {
     "name": "stdout",
     "output_type": "stream",
     "text": [
      "25\n",
      "7\n"
     ]
    }
   ],
   "source": [
    "public class Maths\n",
    "{\n",
    "    // Single parameter, returns a value\n",
    "    public static int Square(int x)\n",
    "    {\n",
    "        return x * x;\n",
    "    }\n",
    "\n",
    "    // Multiple parameters\n",
    "    internal static int Add(int a, int b)\n",
    "    {\n",
    "        return a + b;\n",
    "    }\n",
    "}\n",
    "\n",
    "Console.WriteLine(Maths.Square(5));\n",
    "Console.WriteLine(Maths.Add(3, 4));"
   ]
  },
  {
   "cell_type": "markdown",
   "id": "4c4c9e13",
   "metadata": {},
   "source": [
    "### Default and named parameters\n",
    "\n",
    "In this example, the `Welcome` method shows how you can provide default values for parameters and also call the method using named arguments. Defaults let you omit some arguments when calling, while named arguments improve readability and allow you to specify only the values you want to override."
   ]
  },
  {
   "cell_type": "code",
   "execution_count": 4,
   "id": "b0df6309",
   "metadata": {
    "language_info": {
     "name": "polyglot-notebook"
    },
    "polyglot_notebook": {
     "kernelName": "csharp"
    }
   },
   "outputs": [
    {
     "name": "stdout",
     "output_type": "stream",
     "text": [
      "Welcome student to C# Basics\n",
      "Welcome student to LINQ\n",
      "Welcome Amir to C# Basics\n",
      "Welcome Priya to ASP.NET\n"
     ]
    }
   ],
   "source": [
    "public class Greeter\n",
    "{\n",
    "    public static void Welcome(string name = \"student\", string course = \"C# Basics\")\n",
    "    {\n",
    "        Console.WriteLine($\"Welcome {name} to {course}\");\n",
    "    }\n",
    "}\n",
    "\n",
    "Greeter.Welcome();                    // uses both defaults\n",
    "Greeter.Welcome(course: \"LINQ\");      // named argument\n",
    "Greeter.Welcome(name: \"Amir\");       // override one\n",
    "Greeter.Welcome(\"Priya\", \"ASP.NET\"); // positional"
   ]
  },
  {
   "cell_type": "markdown",
   "id": "075306d3",
   "metadata": {},
   "source": [
    "### Method overloading\n",
    "\n",
    "In C#, a class can have member methods with the same name but different parameters. This is known as **method overloading**, and the compiler chooses the right version based on the arguments you pass. It is a form of compile‑time polymorphism, which we will expand on in the next chapter."
   ]
  },
  {
   "cell_type": "code",
   "execution_count": 5,
   "id": "a227f485",
   "metadata": {
    "language_info": {
     "name": "polyglot-notebook"
    },
    "polyglot_notebook": {
     "kernelName": "csharp"
    }
   },
   "outputs": [
    {
     "name": "stdout",
     "output_type": "stream",
     "text": [
      "£12.50\n",
      "€12.50\n"
     ]
    }
   ],
   "source": [
    "public class Formatter\n",
    "{\n",
    "    public static string FormatPrice(double amount)\n",
    "    {\n",
    "        return $\"£{amount:0.00}\";\n",
    "    }\n",
    "\n",
    "    public static string FormatPrice(double amount, string currency)\n",
    "    {\n",
    "        return $\"{currency}{amount:0.00}\";\n",
    "    }\n",
    "}\n",
    "\n",
    "Console.WriteLine(Formatter.FormatPrice(12.5));\n",
    "Console.WriteLine(Formatter.FormatPrice(12.5, \"€\"));"
   ]
  },
  {
   "cell_type": "markdown",
   "id": "408e9d01",
   "metadata": {},
   "source": [
    "### Let's put it all together\n",
    "\n",
    "Now step out of the LMS and your notebook in VS Code, and run a real .NET app.\n",
    "\n",
    "**Create a new console app**\n",
    "\n",
    "```bash\n",
    "dotnet new console -o MethodsAndParameters\n",
    "cd MethodsAndParameters\n",
    "code .\n",
    "```\n",
    "\n",
    "We won't cram everything into a single file. Instead, we will leverage the framework's ability to access classes defined in the same codebase (as long as they share a namespace).\n",
    "\n",
    "**Create `Greeter.cs`**"
   ]
  },
  {
   "cell_type": "code",
   "execution_count": 6,
   "id": "8883a406",
   "metadata": {
    "language_info": {
     "name": "polyglot-notebook"
    },
    "polyglot_notebook": {
     "kernelName": "csharp"
    }
   },
   "outputs": [],
   "source": [
    "// Greeter.cs\n",
    "public class Greeter\n",
    "{\n",
    "    public static void Welcome(string name = \"student\", string course = \"C# Basics\")\n",
    "    {\n",
    "        Console.WriteLine($\"Welcome {name} to {course}\");\n",
    "    }\n",
    "}"
   ]
  },
  {
   "cell_type": "markdown",
   "id": "9b77f9fd",
   "metadata": {},
   "source": [
    "**Then in `Program.cs`**"
   ]
  },
  {
   "cell_type": "code",
   "execution_count": 7,
   "id": "ec31c417",
   "metadata": {
    "language_info": {
     "name": "polyglot-notebook"
    },
    "polyglot_notebook": {
     "kernelName": "csharp"
    }
   },
   "outputs": [
    {
     "name": "stdout",
     "output_type": "stream",
     "text": [
      "Welcome student to C# Basics\n",
      "Welcome student to LINQ\n",
      "Welcome Amir to C# Basics\n",
      "Welcome Priya to ASP.NET\n"
     ]
    }
   ],
   "source": [
    "// Program.cs\n",
    "Greeter.Welcome();                    // uses both defaults\n",
    "Greeter.Welcome(course: \"LINQ\");      // named argument\n",
    "Greeter.Welcome(name: \"Amir\");       // override one\n",
    "Greeter.Welcome(\"Priya\", \"ASP.NET\"); // positional"
   ]
  },
  {
   "cell_type": "markdown",
   "id": "fd49e5cc",
   "metadata": {},
   "source": [
    "Because `Greeter.cs` is in the same project as `Program.cs`, and both are currently in the **global namespace**, you can reference `Greeter` directly. A **namespace** is a logical container that organises related types and prevents name clashes; folders alone do not change namespaces.\n",
    "\n",
    "If you move `Greeter.cs` into a `Utils` folder, it still works. But if you also declare a file‑scoped namespace in `Utils/Greeter.cs`:"
   ]
  },
  {
   "cell_type": "code",
   "execution_count": 8,
   "id": "17209eef",
   "metadata": {
    "language_info": {
     "name": "polyglot-notebook"
    },
    "polyglot_notebook": {
     "kernelName": "csharp"
    }
   },
   "outputs": [
    {
     "ename": "Error",
     "evalue": "(2,1): error CS7021: Cannot declare namespace in script code",
     "output_type": "error",
     "traceback": [
      "(2,1): error CS7021: Cannot declare namespace in script code"
     ]
    }
   ],
   "source": [
    "// Utils/Greeter.cs\n",
    "namespace Utils;\n",
    "// namespaces do not work on script code like this Notebook\n",
    "\n",
    "public class Greeter\n",
    "{\n",
    "    public static void Welcome(string name = \"student\", string course = \"C# Basics\")\n",
    "    {\n",
    "        Console.WriteLine($\"Welcome {name} to {course}\");\n",
    "    }\n",
    "}"
   ]
  },
  {
   "cell_type": "markdown",
   "id": "a56e8684",
   "metadata": {},
   "source": [
    "`Program.cs` will no longer see `Greeter` automatically and you will get:\n",
    "\n",
    "```bash\n",
    "The name 'Greeter' does not exist in the current context (CS0103)\n",
    "```\n",
    "\n",
    "**Fix it in one of two ways:**\n",
    "\n",
    "- Add a `using` directive at the top of `Program.cs`:"
   ]
  },
  {
   "cell_type": "code",
   "execution_count": 9,
   "id": "f5dd7c15",
   "metadata": {
    "language_info": {
     "name": "polyglot-notebook"
    },
    "polyglot_notebook": {
     "kernelName": "csharp"
    }
   },
   "outputs": [
    {
     "ename": "Error",
     "evalue": "(1,7): error CS0246: The type or namespace name 'Utils' could not be found (are you missing a using directive or an assembly reference?)",
     "output_type": "error",
     "traceback": [
      "(1,7): error CS0246: The type or namespace name 'Utils' could not be found (are you missing a using directive or an assembly reference?)"
     ]
    }
   ],
   "source": [
    "using Utils;\n",
    "// namespaces do not work on script code like this Notebook\n",
    "\n",
    "Greeter.Welcome();"
   ]
  },
  {
   "cell_type": "markdown",
   "id": "2536f894",
   "metadata": {},
   "source": [
    "- Or use the fully qualified name:"
   ]
  },
  {
   "cell_type": "code",
   "execution_count": 10,
   "id": "dbb70ae6",
   "metadata": {
    "language_info": {
     "name": "polyglot-notebook"
    },
    "polyglot_notebook": {
     "kernelName": "csharp"
    }
   },
   "outputs": [
    {
     "ename": "Error",
     "evalue": "(1,1): error CS0103: The name 'Utils' does not exist in the current context",
     "output_type": "error",
     "traceback": [
      "(1,1): error CS0103: The name 'Utils' does not exist in the current context"
     ]
    }
   ],
   "source": [
    "Utils.Greeter.Welcome();\n",
    "// namespaces do not work on script code like this Notebook"
   ]
  },
  {
   "cell_type": "markdown",
   "id": "409242d3",
   "metadata": {},
   "source": [
    "Either approach tells the compiler which namespace contains `Greeter`. This mirrors how larger applications structure code across many files and namespaces."
   ]
  }
 ],
 "metadata": {
  "kernelspec": {
   "display_name": ".NET (C#)",
   "language": "C#",
   "name": ".net-csharp"
  },
  "language_info": {
   "name": "polyglot-notebook"
  },
  "polyglot_notebook": {
   "kernelInfo": {
    "defaultKernelName": "csharp",
    "items": [
     {
      "aliases": [],
      "languageName": "csharp",
      "name": "csharp"
     }
    ]
   }
  }
 },
 "nbformat": 4,
 "nbformat_minor": 5
}
