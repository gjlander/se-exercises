{
 "cells": [
  {
   "cell_type": "markdown",
   "id": "1d9104d4",
   "metadata": {},
   "source": [
    "# Introduction to Polyglot Notebooks with C#\n",
    "\n",
    "Welcome to the world of interactive programming with C# using Polyglot Notebooks!"
   ]
  },
  {
   "cell_type": "markdown",
   "id": "8ab8f48a",
   "metadata": {},
   "source": [
    "### What is a Notebook?\n",
    "\n",
    "A **notebook** is an interactive document that combines:\n",
    "- **Code cells** - executable blocks of code\n",
    "- **Markdown cells** - formatted text, explanations, and documentation\n",
    "- **Output cells** - results from code execution (text, graphics, tables, etc.)\n",
    "\n",
    "### Why Use Notebooks for Learning C#?\n",
    "\n",
    "Notebooks provide an excellent environment for learning and experimenting with C# because they allow you to:\n",
    "\n",
    "1. **Write and execute code incrementally** - test small snippets without creating full projects\n",
    "2. **Document your learning** - add explanations alongside your code\n",
    "3. **See immediate results** - execute code and see output right below each cell\n",
    "4. **Experiment safely** - try different approaches without affecting other parts of your code\n",
    "5. **Share knowledge** - notebooks are perfect for tutorials, examples, and explanations\n",
    "\n",
    "Throughout this course, we'll use notebooks to provide interactive explanations and hands-on coding experiences with C#."
   ]
  },
  {
   "cell_type": "markdown",
   "id": "319af7e8",
   "metadata": {},
   "source": [
    "## Let's Try Some C# Code!\n",
    "\n",
    "Below is a simple example that demonstrates basic C# syntax including variables, string interpolation, and loops. Click the \"Execute Cell\" button (or press Shift+Enter) to run the code and see the output."
   ]
  },
  {
   "cell_type": "code",
   "execution_count": null,
   "id": "2a95ca35",
   "metadata": {
    "language_info": {
     "name": "polyglot-notebook"
    },
    "polyglot_notebook": {
     "kernelName": "csharp"
    }
   },
   "outputs": [
    {
     "name": "stdout",
     "output_type": "stream",
     "text": [
      "The year is 2025\n",
      "Count: 0\n",
      "Count: 1\n",
      "Count: 2\n"
     ]
    }
   ],
   "source": [
    "int year = 2025;\n",
    "\n",
    "Console.WriteLine($\"The year is {year}\");\n",
    "\n",
    "for (int i = 0; i < 3; i++)\n",
    "{\n",
    "    Console.WriteLine($\"Count: {i}\");\n",
    "}"
   ]
  },
  {
   "cell_type": "markdown",
   "id": "dcd6e836",
   "metadata": {},
   "source": [
    "## Code Explanation\n",
    "\n",
    "The above example demonstrates several fundamental C# concepts:\n",
    "\n",
    "1. **Variable Declaration**: `int year = 2025;` creates an integer variable and assigns it a value\n",
    "2. **String Interpolation**: `$\"The year is {year}\"` embeds the variable value directly into the string\n",
    "3. **Console Output**: `Console.WriteLine()` prints text to the console\n",
    "4. **For Loop**: The loop runs 3 times (i = 0, 1, 2) and prints the counter value each time\n",
    "\n",
    "**Expected Output:**\n",
    "```\n",
    "The year is 2025\n",
    "Count: 0\n",
    "Count: 1\n",
    "Count: 2\n",
    "```\n",
    "\n",
    "Try modifying the code above - change the year value or the loop condition and run it again!"
   ]
  },
  {
   "cell_type": "markdown",
   "id": "6b5c4bca",
   "metadata": {},
   "source": [
    "## Next Steps\n",
    "\n",
    "Now that you understand what notebooks are and have seen your first C# example, you're ready to dive deeper into C# programming!\n",
    "\n",
    "In the upcoming notebooks, we'll explore:\n",
    "- C# data types and variables\n",
    "- Control structures (if statements, loops, switch)\n",
    "- Methods and functions\n",
    "- Object-oriented programming concepts\n",
    "- Error handling\n",
    "- And much more!\n",
    "\n",
    "**Remember**: The beauty of notebooks is that you can experiment, modify code, and see results immediately. Don't hesitate to play around with the examples!"
   ]
  }
 ],
 "metadata": {
  "kernelspec": {
   "display_name": ".NET (C#)",
   "language": "C#",
   "name": ".net-csharp"
  },
  "language_info": {
   "name": "polyglot-notebook"
  },
  "polyglot_notebook": {
   "kernelInfo": {
    "defaultKernelName": "csharp",
    "items": [
     {
      "aliases": [],
      "languageName": "csharp",
      "name": "csharp"
     }
    ]
   }
  }
 },
 "nbformat": 4,
 "nbformat_minor": 5
}
