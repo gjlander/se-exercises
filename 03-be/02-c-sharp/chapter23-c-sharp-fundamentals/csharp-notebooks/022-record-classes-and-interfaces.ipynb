{
 "cells": [
  {
   "cell_type": "markdown",
   "id": "0fcc73c6",
   "metadata": {},
   "source": [
    "# Record Classes and Interfaces\n",
    "\n",
    "In this lecture, we dive deeper into **records**, **classes**, and **interfaces**. These are all reference types, but each serves a different purpose in your applications.\n",
    "\n",
    "## Classes\n",
    "\n",
    "A **class** is the most common reference type in C#. Classes are designed to model complex, long-lived objects that often have behaviour as well as state.\n",
    "\n",
    "**Key features**\n",
    "\n",
    "- Support inheritance and polymorphism.\n",
    "- Default equality is reference-based (two variables are equal only if they refer to the same object).\n",
    "- Typically mutable, but you can design immutable classes.\n",
    "\n",
    "**Example**"
   ]
  },
  {
   "cell_type": "code",
   "execution_count": null,
   "id": "a0c21848",
   "metadata": {},
   "outputs": [],
   "source": [
    "var s1 = new Student(\"S-001\", \"Amira\", 2);\n",
    "var s2 = s1;\n",
    "s2.Promote();\n",
    "Console.WriteLine(s1.Year); // 3 (both refer to same object)\n",
    "\n",
    "class Student\n",
    "{\n",
    "    public string Id { get; set; }\n",
    "    public string Name { get; set; }\n",
    "    public int Year { get; private set; }\n",
    "\n",
    "    public Student(string id, string name, int year)\n",
    "    {\n",
    "        Id = id;\n",
    "        Name = name;\n",
    "        Year = year;\n",
    "    }\n",
    "\n",
    "    public void Promote() => Year++;\n",
    "}"
   ]
  },
  {
   "cell_type": "markdown",
   "id": "7ea5e123",
   "metadata": {},
   "source": [
    "## Records\n",
    "\n",
    "A **record** is also a reference type, but it is designed for **data-centric scenarios**. Records provide value-based equality, concise syntax, and support for immutability by default.\n",
    "\n",
    "**Key features**\n",
    "\n",
    "- Value equality: two records with the same values are equal, even if they are different objects.\n",
    "- Concise syntax for defining data models.\n",
    "- Support for non-destructive mutation using the `with` expression.\n",
    "\n",
    "**Example**"
   ]
  },
  {
   "cell_type": "code",
   "execution_count": null,
   "id": "cf2800ec",
   "metadata": {},
   "outputs": [],
   "source": [
    "var r1 = new StudentRecord(\"S-001\", \"Amira\", 2);\n",
    "var r2 = new StudentRecord(\"S-001\", \"Amira\", 2);\n",
    "Console.WriteLine(r1 == r2); // True (value equality)\n",
    "var r3 = r1 with { Year = 3 }; // creates a new record\n",
    "\n",
    "Console.WriteLine(r1.Year); // 2\n",
    "Console.WriteLine(r3.Year); // 3\n",
    "\n",
    "public record StudentRecord(string Id, string Name, int Year);"
   ]
  },
  {
   "cell_type": "markdown",
   "id": "8435e5b7",
   "metadata": {},
   "source": [
    "**When to use records**\n",
    "\n",
    "- Data transfer objects (DTOs).\n",
    "- Models where immutability is preferred.\n",
    "- Scenarios where equality should be based on data, not object identity."
   ]
  },
  {
   "cell_type": "markdown",
   "id": "c4f4a6c9",
   "metadata": {},
   "source": [
    "## Interfaces\n",
    "\n",
    "An **interface** defines a contract. It specifies a set of members (methods, properties, events) that a class or struct must implement. Interfaces support polymorphism without requiring inheritance.\n",
    "\n",
    "**Key features**\n",
    "\n",
    "- Multiple interfaces can be implemented by the same class.\n",
    "- Enable dependency injection and testability.\n",
    "- Provide abstraction for better software design.\n",
    "\n",
    "**Example**"
   ]
  },
  {
   "cell_type": "code",
   "execution_count": null,
   "id": "fb0dd4be",
   "metadata": {},
   "outputs": [],
   "source": [
    "IShape shape = new Circle { Radius = 5 };\n",
    "\n",
    "Console.WriteLine(shape.Area()); // 78.5\n",
    "\n",
    "interface IShape\n",
    "{\n",
    "    double Area();\n",
    "}\n",
    "\n",
    "class Circle : IShape\n",
    "{\n",
    "    public double Radius { get; set; }\n",
    "    public double Area() => Math.PI * Radius * Radius;\n",
    "}\n",
    "\n",
    "class Rectangle : IShape\n",
    "{\n",
    "    public double Width { get; set; }\n",
    "    public double Height { get; set; }\n",
    "    public double Area() => Width * Height;\n",
    "}"
   ]
  },
  {
   "cell_type": "markdown",
   "id": "4c898daa",
   "metadata": {},
   "source": [
    "**When to use interfaces**\n",
    "\n",
    "- To define capabilities that multiple types can share (e.g., `IDisposable`, `IComparable`).\n",
    "- To decouple code from specific implementations.\n",
    "- To enable polymorphic behaviour across unrelated classes."
   ]
  },
  {
   "cell_type": "markdown",
   "id": "fcae4965",
   "metadata": {},
   "source": [
    "## Summary Table\n",
    "\n",
    "| Type | Equality | Inheritance | Typical Use |\n",
    "| --- | --- | --- | --- |\n",
    "| **Class** | Reference-based by default | Supports inheritance | Complex, mutable, long-lived objects with behaviour |\n",
    "| **Record** | Value-based | Supports inheritance (record hierarchy) | Immutable or data-centric models, DTOs |\n",
    "| **Interface** | Not applicable | Can be implemented by many classes/structs | Abstractions, contracts, polymorphism without inheritance |"
   ]
  }
 ],
 "metadata": {
  "kernelspec": {
   "display_name": ".NET (C#)",
   "language": "C#",
   "name": ".net-csharp"
  },
  "language_info": {
   "name": "polyglot-notebook"
  },
  "polyglot_notebook": {
   "kernelInfo": {
    "defaultKernelName": "csharp",
    "items": [
     {
      "aliases": [],
      "name": "csharp"
     }
    ]
   }
  }
 },
 "nbformat": 4,
 "nbformat_minor": 5
}
