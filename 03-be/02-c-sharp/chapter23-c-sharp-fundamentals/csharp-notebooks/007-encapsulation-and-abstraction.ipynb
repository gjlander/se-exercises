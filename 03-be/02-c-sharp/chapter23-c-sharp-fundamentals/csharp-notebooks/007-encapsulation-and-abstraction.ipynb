{
  "cells": [
    {
      "cell_type": "markdown",
      "id": "a7634ccd",
      "metadata": {},
      "source": [
        "# Encapsulation and Abstraction\n",
        "\n",
        "Encapsulation is one of the four fundamental pillars of object‑oriented programming (OOP). It refers to the practice of **bundling data and the methods that operate on that data into a single unit**, usually a class.\n",
        "\n",
        "Think of encapsulation as a protective wrapper:\n",
        "\n",
        "- A class hides its internal state (fields) from the outside world.\n",
        "- It only exposes what is necessary through controlled access points (properties and methods).\n",
        "\n",
        "### Why is encapsulation important?\n",
        "\n",
        "- **Control** – you decide how external code can interact with your object.\n",
        "- **Safety** – prevents accidental changes to internal data.\n",
        "- **Flexibility** – internal implementation can change without affecting other code.\n",
        "- **Clarity** – objects present a clear interface of what they can do.\n",
        "\n",
        "### Example"
      ]
    },
    {
      "cell_type": "code",
      "execution_count": null,
      "metadata": {
        "language_info": {
          "name": "polyglot-notebook"
        },
        "polyglot_notebook": {
          "kernelName": "csharp"
        }
      },
      "outputs": [
        {
          "name": "stdout",
          "output_type": "stream",
          "text": [
            "Balance: 1250\r\n"
          ]
        }
      ],
      "source": [
        "// BankAccount.cs\n",
        "public class BankAccount\n",
        "{\n",
        "    private decimal _balance; // private field – hidden from outside\n",
        "\n",
        "    public string Owner { get; }\n",
        "\n",
        "    public BankAccount(string owner, decimal initialBalance)\n",
        "    {\n",
        "        Owner = owner;\n",
        "        _balance = initialBalance;\n",
        "    }\n",
        "\n",
        "    // Public method controlling how balance is updated\n",
        "    public void Deposit(decimal amount)\n",
        "    {\n",
        "        if (amount > 0)\n",
        "            _balance += amount;\n",
        "    }\n",
        "\n",
        "    // Public method to read balance safely\n",
        "    public decimal GetBalance()\n",
        "    {\n",
        "        return _balance;\n",
        "    }\n",
        "}\n",
        "// Program.cs\n",
        "var account = new BankAccount(\"Maria\", 1000);\n",
        "account.Deposit(250);\n",
        "\n",
        "// account.Owner = \"John\"; // This line will cause a compile-time error since Owner is read-only\n",
        "Console.WriteLine($\"Balance: {account.GetBalance()}\");"
      ]
    },
    {
      "cell_type": "code",
      "execution_count": 1,
      "metadata": {
        "language_info": {
          "name": "polyglot-notebook"
        },
        "polyglot_notebook": {
          "kernelName": "csharp"
        }
      },
      "outputs": [
        {
          "ename": "Error",
          "evalue": "(2,19): error CS0246: The type or namespace name 'BankAccount' could not be found (are you missing a using directive or an assembly reference?)",
          "output_type": "error",
          "traceback": [
            "(2,19): error CS0246: The type or namespace name 'BankAccount' could not be found (are you missing a using directive or an assembly reference?)"
          ]
        }
      ],
      "source": [
        "// Program.cs\n",
        "var account = new BankAccount(\"Maria\", 1000);\n",
        "account.Deposit(250);\n",
        "\n",
        "// account.Owner = \"John\"; // This line will cause a compile-time error since Owner is read-only\n",
        "Console.WriteLine($\"Balance: {account.GetBalance()}\");"
      ]
    },
    {
      "cell_type": "markdown",
      "id": "749b3eae",
      "metadata": {},
      "source": [
        "Encapsulation ensures that an object's data and behaviour belong together. Rather than exposing fields directly, we provide **properties** and **methods** as controlled gateways. This is what makes classes reliable building blocks in C#.\n",
        "\n",
        "### Common mistakes\n",
        "\n",
        "- Exposing public fields instead of properties.\n",
        "- Returning a mutable list directly, allowing external code to change internal state.\n",
        "- Setters that accept invalid values (negative amounts, empty strings) without validation.\n",
        "\n",
        "### Abstraction \n",
        "\n",
        "Abstraction is the principle of focusing on the essential features of an object while hiding the unnecessary details. It allows us to define what an object does without getting bogged down in how it does it. By working at a higher level of design, abstraction makes systems easier to reason about, reduces complexity, and promotes cleaner, more maintainable code.\n",
        "\n",
        "### Quick checklist\n",
        "\n",
        "- Keep fields private and expose intent through properties and methods.\n",
        "- Prefer `private set`, `init`, or read‑only properties for state that should not change freely.\n",
        "- Expose read‑only collection views or add methods that perform controlled changes.\n",
        "- Validate inputs at the boundary of the class."
      ]
    }
  ],
  "metadata": {
    "kernelspec": {
      "display_name": ".NET (C#)",
      "language": "C#",
      "name": ".net-csharp"
    },
    "language_info": {
      "name": "polyglot-notebook"
    },
    "polyglot_notebook": {
      "kernelInfo": {
        "defaultKernelName": "csharp",
        "items": [
          {
            "aliases": [],
            "languageName": "csharp",
            "name": "csharp"
          }
        ]
      }
    }
  },
  "nbformat": 4,
  "nbformat_minor": 5
}
