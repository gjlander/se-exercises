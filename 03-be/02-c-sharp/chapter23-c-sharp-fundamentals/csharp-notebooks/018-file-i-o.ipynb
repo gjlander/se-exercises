{
 "cells": [
  {
   "cell_type": "markdown",
   "id": "20506cd1",
   "metadata": {},
   "source": [
    "# File I/O in C#\n",
    "\n",
    "Working with files is a common task in many applications—whether you're storing logs, reading configuration, or processing data. In C#, the .NET framework provides a rich set of classes in the [`System.IO`](https://learn.microsoft.com/en-us/dotnet/api/system.io?view=net-9.0) namespace to handle file input and output.\n",
    "\n",
    "## Key classes in `System.IO`\n",
    "\n",
    "- **File** – static methods for creating, copying, deleting, and opening files.\n",
    "- **FileInfo** – instance-based version of `File` that provides more control and metadata.\n",
    "- **Directory / DirectoryInfo** – manage directories and folders.\n",
    "- **StreamReader / StreamWriter** – read and write text data from/to files.\n",
    "- **BinaryReader / BinaryWriter** – read and write primitive types as binary values.\n",
    "\n",
    "## Writing to a file"
   ]
  },
  {
   "cell_type": "code",
   "execution_count": null,
   "id": "0f7fcbe3",
   "metadata": {
    "language_info": {
     "name": "polyglot-notebook"
    },
    "polyglot_notebook": {
     "kernelName": "csharp"
    }
   },
   "outputs": [],
   "source": [
    "using System.IO;\n",
    "\n",
    "// Write all text at once\n",
    "File.WriteAllText(\"example.txt\", \"Hello, world!\");\n",
    "\n",
    "// Write line by line with a StreamWriter\n",
    "using (var writer = new StreamWriter(\"log.txt\", append: true)){\n",
    "    writer.WriteLine($\"Log entry at {DateTime.Now}\");\n",
    "}"
   ]
  },
  {
   "cell_type": "markdown",
   "id": "ac707f70",
   "metadata": {},
   "source": [
    "⚠️ The `using var` is for objects that implement `IDisposable` (like `Stream`, `SqlConnection`, `HttpClient`), so you don't leak resources. It basically tells the compiler to dispose of that resource once it's out of scope. This is how you'd dispose of it manually:"
   ]
  },
  {
   "cell_type": "code",
   "execution_count": null,
   "id": "fbbd0793",
   "metadata": {
    "language_info": {
     "name": "polyglot-notebook"
    },
    "polyglot_notebook": {
     "kernelName": "csharp"
    }
   },
   "outputs": [],
   "source": [
    "using System.IO;\n",
    "\n",
    "// Manually manage the StreamWriter\n",
    "var writer = new StreamWriter(\"log.txt\", append: true);\n",
    "try\n",
    "{\n",
    "    writer.WriteLine($\"Log entry at {DateTime.Now}\");\n",
    "}\n",
    "finally\n",
    "{\n",
    "    // Make sure it's disposed even if an error occurs\n",
    "    if (writer != null)\n",
    "    {\n",
    "        writer.Dispose();\n",
    "    }\n",
    "}"
   ]
  },
  {
   "cell_type": "markdown",
   "id": "b7f021b5",
   "metadata": {},
   "source": [
    "## Reading from a file"
   ]
  },
  {
   "cell_type": "code",
   "execution_count": null,
   "id": "37f4d7ef",
   "metadata": {
    "language_info": {
     "name": "polyglot-notebook"
    },
    "polyglot_notebook": {
     "kernelName": "csharp"
    }
   },
   "outputs": [],
   "source": [
    "using System.IO;\n",
    "\n",
    "// Read all text at once\n",
    "string text = File.ReadAllText(\"example.txt\");\n",
    "Console.WriteLine(text);\n",
    "\n",
    "// Read line by line with a StreamReader\n",
    "using (var reader = new StreamReader(\"example.txt\"))\n",
    "{\n",
    "    string? line;\n",
    "    while ((line = reader.ReadLine()) != null)\n",
    "    {\n",
    "        Console.WriteLine(line);\n",
    "    }\n",
    "}"
   ]
  },
  {
   "cell_type": "markdown",
   "id": "4a1a263a",
   "metadata": {},
   "source": [
    "## Checking for existence"
   ]
  },
  {
   "cell_type": "code",
   "execution_count": null,
   "id": "d7e3da1d",
   "metadata": {
    "language_info": {
     "name": "polyglot-notebook"
    },
    "polyglot_notebook": {
     "kernelName": "csharp"
    }
   },
   "outputs": [],
   "source": [
    "if (File.Exists(\"example.txt\"))\n",
    "{\n",
    "    Console.WriteLine(\"File exists\");\n",
    "}\n",
    "else\n",
    "{\n",
    "    Console.WriteLine(\"File not found\");\n",
    "}"
   ]
  },
  {
   "cell_type": "markdown",
   "id": "8ff9befe",
   "metadata": {},
   "source": [
    "## Paths and directories"
   ]
  },
  {
   "cell_type": "code",
   "execution_count": null,
   "id": "762cc562",
   "metadata": {
    "language_info": {
     "name": "polyglot-notebook"
    },
    "polyglot_notebook": {
     "kernelName": "csharp"
    }
   },
   "outputs": [],
   "source": [
    "// Sample Data\n",
    "var dict = Enumerable.Range(1, 200).ToDictionary(i => i, i => $\"Name_{i}\");\n",
    "\n",
    "// Combine paths safely\n",
    "string folder = \"data\";\n",
    "string fileName = \"records.csv\";\n",
    "string fullPath = Path.Combine(folder, fileName);\n",
    "\n",
    "// Ensure directory exists\n",
    "if (!Directory.Exists(folder))\n",
    "{\n",
    "    Directory.CreateDirectory(folder);\n",
    "}\n",
    "\n",
    "using (var writer = new StreamWriter(fullPath)){\n",
    "    foreach (var kvp in dict)\n",
    "    {\n",
    "        writer.WriteLine($\"{kvp.Key},{kvp.Value}\");\n",
    "    }\n",
    "}"
   ]
  },
  {
   "cell_type": "markdown",
   "id": "1f84ebf9",
   "metadata": {},
   "source": [
    "## Error handling\n",
    "\n",
    "File operations often fail due to missing files, permission issues, or locked resources. Always be ready to handle exceptions such as:\n",
    "\n",
    "- `FileNotFoundException`\n",
    "- `UnauthorizedAccessException`\n",
    "- `IOException`"
   ]
  },
  {
   "cell_type": "code",
   "execution_count": null,
   "id": "398c789b",
   "metadata": {
    "language_info": {
     "name": "polyglot-notebook"
    },
    "polyglot_notebook": {
     "kernelName": "csharp"
    }
   },
   "outputs": [],
   "source": [
    "try\n",
    "{\n",
    "    string content = File.ReadAllText(\"config.json\");\n",
    "    Console.WriteLine(content);\n",
    "}\n",
    "catch (FileNotFoundException)\n",
    "{\n",
    "    Console.WriteLine(\"Configuration file missing!\");\n",
    "}\n",
    "catch (UnauthorizedAccessException)\n",
    "{\n",
    "    Console.WriteLine(\"Access denied. Check file permissions.\");\n",
    "}\n",
    "catch (IOException)\n",
    "{\n",
    "    Console.WriteLine(\"An I/O error occurred while accessing the file.\");\n",
    "}\n",
    "catch (Exception ex)\n",
    "{\n",
    "    Console.WriteLine($\"An unexpected error occurred: {ex.Message}\");\n",
    "}"
   ]
  },
  {
   "cell_type": "markdown",
   "id": "8f2e09f1",
   "metadata": {},
   "source": [
    "## Summary\n",
    "\n",
    "- Use the `System.IO` namespace for file operations.\n",
    "- Prefer `using` statements with `StreamReader`/`StreamWriter` to ensure resources are disposed.\n",
    "- Always handle potential exceptions when performing file I/O.\n",
    "- For small files, `File.ReadAllText` and `File.WriteAllText` are convenient; for larger files, prefer streaming with `StreamReader`/`StreamWriter`.\n",
    "- If you want to check out the full namespace, [go here](https://learn.microsoft.com/en-us/dotnet/api/system.io?view=net-9.0)\n",
    "- Your files, by default, will be created at the root of your project at runtime: `bin/Debug/net9.0`"
   ]
  }
 ],
 "metadata": {
  "kernelspec": {
   "display_name": ".NET (C#)",
   "language": "C#",
   "name": ".net-csharp"
  },
  "language_info": {
   "name": "polyglot-notebook"
  },
  "polyglot_notebook": {
   "kernelInfo": {
    "defaultKernelName": "csharp",
    "items": [
     {
      "aliases": [],
      "name": "csharp"
     }
    ]
   }
  }
 },
 "nbformat": 4,
 "nbformat_minor": 5
}
