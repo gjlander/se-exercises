{
 "cells": [
  {
   "cell_type": "markdown",
   "id": "8c821e85",
   "metadata": {},
   "source": [
    "# Value Types vs Reference Types\n",
    "\n",
    "In C#, all types fall into two main categories: **value types** and **reference types**. Value types hold their data directly and live in the stack; reference types hold a pointer to data on the heap. This distinction affects copying, parameter passing, equality, and performance.\n",
    "\n",
    "## Value Types\n",
    "\n",
    "The main built-in value types are:\n",
    "\n",
    "- Integral numeric types (`int`, `long`, `byte`)\n",
    "- Floating-point types (`float`, `double`, `decimal`)\n",
    "- `bool`\n",
    "- `char`\n",
    "- `enum`\n",
    "- `struct`\n",
    "\n",
    "### Integral numeric types"
   ]
  },
  {
   "cell_type": "code",
   "execution_count": null,
   "id": "4144d5eb",
   "metadata": {},
   "outputs": [],
   "source": [
    "int age = 30;\n",
    "long population = 8_000_000_000;\n",
    "byte level = 255;\n",
    "\n",
    "Console.WriteLine($\"Age: {age}, Population: {population}, Level: {level}\");"
   ]
  },
  {
   "cell_type": "markdown",
   "id": "11522425",
   "metadata": {},
   "source": [
    "### Floating-point types"
   ]
  },
  {
   "cell_type": "code",
   "execution_count": null,
   "id": "26dc9e91",
   "metadata": {},
   "outputs": [],
   "source": [
    "float price = 19.99f;\n",
    "double distance = 384_400.5;\n",
    "decimal salary = 2500.75m;\n",
    "\n",
    "Console.WriteLine($\"Price: {price}, Distance: {distance}, Salary: {salary}\");"
   ]
  },
  {
   "cell_type": "markdown",
   "id": "de8144e8",
   "metadata": {},
   "source": [
    "### Boolean"
   ]
  },
  {
   "cell_type": "code",
   "execution_count": null,
   "id": "de552238",
   "metadata": {},
   "outputs": [],
   "source": [
    "bool isActive = true;\n",
    "\n",
    "Console.WriteLine($\"Is Active: {isActive}\");"
   ]
  },
  {
   "cell_type": "markdown",
   "id": "0d8a3b8a",
   "metadata": {},
   "source": [
    "### Character"
   ]
  },
  {
   "cell_type": "code",
   "execution_count": null,
   "id": "c696d70b",
   "metadata": {},
   "outputs": [],
   "source": [
    "char letter = 'A';\n",
    "char hex = '\\x41'; // Hexadecimal representation of 'A'\n",
    "char unicode = '\\u0041'; // Unicode representation of 'A'\n",
    "\n",
    "Console.WriteLine(letter);\n",
    "Console.WriteLine(hex);\n",
    "Console.WriteLine(unicode);"
   ]
  },
  {
   "cell_type": "markdown",
   "id": "c5ef803e",
   "metadata": {},
   "source": [
    "### Enumeration"
   ]
  },
  {
   "cell_type": "code",
   "execution_count": null,
   "id": "1df19662",
   "metadata": {},
   "outputs": [],
   "source": [
    "DayOfWeek today = DayOfWeek.Monday;\n",
    "Console.WriteLine($\"Today is {today}\");\n",
    "\n",
    "enum DayOfWeek { Monday, Tuesday, Wednesday, Thursday, Friday, Saturday, Sunday }"
   ]
  },
  {
   "cell_type": "markdown",
   "id": "fca52b7e",
   "metadata": {},
   "source": [
    "### Structs\n",
    "\n",
    "A struct is a value type, stored on the stack or inline with the containing object. Key differences with classes:\n",
    "\n",
    "- Classes support inheritance; structs do not (they can only implement interfaces).\n",
    "- Classes are passed by reference; structs are passed by value.\n",
    "- Structs are best for small, short-lived pieces of data; classes are better for complex, long-lived objects."
   ]
  },
  {
   "cell_type": "code",
   "execution_count": null,
   "id": "3af3c781",
   "metadata": {},
   "outputs": [],
   "source": [
    "// Structs are passed by value\n",
    "var p1 = new Point { X = 5, Y = 10 };\n",
    "var p2 = new Point { X = 5, Y = 10 };\n",
    "\n",
    "Console.WriteLine(p1.Equals(p2)); // Output: True\n",
    "\n",
    "struct Point\n",
    "{\n",
    "    public int X;\n",
    "    public int Y;\n",
    "}"
   ]
  },
  {
   "cell_type": "code",
   "execution_count": null,
   "id": "aa759682",
   "metadata": {},
   "outputs": [],
   "source": [
    "// Classes are passed by reference\n",
    "var p1 = new Point { X = 5, Y = 10 };\n",
    "var p2 = new Point { X = 5, Y = 10 };\n",
    "\n",
    "Console.WriteLine(p1.Equals(p2)); // Output: True\n",
    "\n",
    "class Point\n",
    "{\n",
    "    public int X;\n",
    "    public int Y;\n",
    "}"
   ]
  },
  {
   "cell_type": "markdown",
   "id": "ee388696",
   "metadata": {},
   "source": [
    "## Reference Types\n",
    "\n",
    "### Classes\n",
    "\n",
    "Classes represent objects with behaviour and usually mutable state. Assignments copy the reference; multiple variables can point to the same instance. Classes support inheritance and polymorphism."
   ]
  },
  {
   "cell_type": "code",
   "execution_count": null,
   "id": "26358137",
   "metadata": {},
   "outputs": [],
   "source": [
    "var s1 = new Student { Id = \"S-001\", Name = \"Amira\", Year = 2 };\n",
    "var s2 = s1;             // reference copy\n",
    "s2.Promote();            // s1.Year is now 3 as well\n",
    "bool eq = s1 == s2;      // true (same reference)\n",
    "Console.WriteLine($\"{s1.Name} is in year {s1.Year}\"); // Amira is in year 3\n",
    "Console.WriteLine($\"s1 and s2 refer to the same object: {eq}\");\n",
    "\n",
    "class Student\n",
    "{\n",
    "    public required string Id { get; set; }\n",
    "    public required string Name { get; set; }\n",
    "    public int Year { get; set; }\n",
    "\n",
    "    public void Promote() => Year++;\n",
    "}"
   ]
  },
  {
   "cell_type": "markdown",
   "id": "bd6d5610",
   "metadata": {},
   "source": [
    "### Records\n",
    "\n",
    "Records are reference types designed for immutability and value-based equality. Two record instances with the same member values are equal, even if they are different objects. You can make them mutable, but immutability is recommended for clarity and safety. They are very useful for LINQ projections or DTOs!"
   ]
  },
  {
   "cell_type": "code",
   "execution_count": null,
   "id": "5f44eb94",
   "metadata": {},
   "outputs": [],
   "source": [
    "var r1 = new StudentRecord(\"SE#001\", \"Amira\", 2);\n",
    "var r2 = new StudentRecord(\"SE#001\", \"Amira\", 2);\n",
    "Console.WriteLine(r1 == r2); // True\n",
    "\n",
    "public record StudentRecord(string Id, string Name, int Year);"
   ]
  },
  {
   "cell_type": "markdown",
   "id": "575911d2",
   "metadata": {},
   "source": [
    "### Interfaces\n",
    "\n",
    "An interface defines a contract: a set of members that implementing types must provide. Classes and structs can implement interfaces. Interfaces support polymorphism without inheritance."
   ]
  },
  {
   "cell_type": "code",
   "execution_count": null,
   "id": "6c5baeac",
   "metadata": {},
   "outputs": [],
   "source": [
    "\n",
    "IShape shape = new Circle { Radius = 5 };\n",
    "double a = shape.Area();\n",
    "Console.WriteLine($\"Area: {a}\");\n",
    "\n",
    "interface IShape\n",
    "{\n",
    "    double Area();\n",
    "}\n",
    "\n",
    "class Circle : IShape\n",
    "{\n",
    "    public double Radius { get; set; }\n",
    "    public double Area() => Math.PI * Radius * Radius;\n",
    "}"
   ]
  },
  {
   "cell_type": "markdown",
   "id": "64565de1",
   "metadata": {},
   "source": [
    "## When to Use Each\n",
    "\n",
    "| Type | When to Use |\n",
    "| --- | --- |\n",
    "| **Integral numeric types** | Counting, indexing, whole numbers, identifiers |\n",
    "| **Floating-point types** | Scientific calculations, approximations, large ranges |\n",
    "| **Boolean** | Flags, conditions, true/false values |\n",
    "| **Character** | Single Unicode characters, parsing text |\n",
    "| **Enumeration** | Fixed set of named values (days, states, categories) |\n",
    "| **Structs** | Small, short-lived, value-like aggregates (coordinates, colours, money) |\n",
    "| **Classes** | Complex, long-lived objects with behaviour and mutable state |\n",
    "| **Records** | Data-centric models, immutability, equality by value, DTOs |\n",
    "| **Interfaces** | Abstractions and contracts for multiple implementations, polymorphism |"
   ]
  }
 ],
 "metadata": {
  "kernelspec": {
   "display_name": ".NET (C#)",
   "language": "C#",
   "name": ".net-csharp"
  },
  "language_info": {
   "name": "polyglot-notebook"
  },
  "polyglot_notebook": {
   "kernelInfo": {
    "defaultKernelName": "csharp",
    "items": [
     {
      "aliases": [],
      "name": "csharp"
     }
    ]
   }
  }
 },
 "nbformat": 4,
 "nbformat_minor": 5
}
