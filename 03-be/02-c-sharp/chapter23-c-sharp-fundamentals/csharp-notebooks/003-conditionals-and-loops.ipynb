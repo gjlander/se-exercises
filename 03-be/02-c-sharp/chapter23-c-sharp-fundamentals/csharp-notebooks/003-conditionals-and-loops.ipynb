{
  "cells": [
    {
      "cell_type": "markdown",
      "id": "96c3bcfa",
      "metadata": {},
      "source": [
        "# Conditionals and Loops\n",
        "\n",
        "Control flow statements let you change the execution of your program depending on conditions or repeat work until it is finished. In C# the most common constructs are `if..else`, `switch`, the ternary operator, `while`, `do..while`, `for`, and the `break`/`continue` keywords.\n",
        "\n",
        "## If..Else\n",
        "\n",
        "`if` statements let you run code only if a condition is true. You can add an `else` block for the alternative path."
      ]
    },
    {
      "cell_type": "code",
      "execution_count": 1,
      "id": "4addd691",
      "metadata": {
        "language_info": {
          "name": "polyglot-notebook"
        },
        "polyglot_notebook": {
          "kernelName": "csharp"
        }
      },
      "outputs": [
        {
          "name": "stdout",
          "output_type": "stream",
          "text": [
            "You are an adult.\r\n"
          ]
        }
      ],
      "source": [
        "int age = 20;\n",
        "\n",
        "if (age >= 18)\n",
        "{\n",
        "    Console.WriteLine(\"You are an adult.\");\n",
        "}\n",
        "else\n",
        "{\n",
        "    Console.WriteLine(\"You are underage.\");\n",
        "}"
      ]
    },
    {
      "cell_type": "markdown",
      "id": "2a6c9007",
      "metadata": {},
      "source": [
        "You can also chain conditions with `else if`:"
      ]
    },
    {
      "cell_type": "code",
      "execution_count": 2,
      "id": "23005e47",
      "metadata": {
        "language_info": {
          "name": "polyglot-notebook"
        },
        "polyglot_notebook": {
          "kernelName": "csharp"
        }
      },
      "outputs": [
        {
          "name": "stdout",
          "output_type": "stream",
          "text": [
            "Adult\r\n"
          ]
        }
      ],
      "source": [
        "if (age < 13)\n",
        "{\n",
        "    Console.WriteLine(\"Child\");\n",
        "}\n",
        "else if (age < 20)\n",
        "{\n",
        "    Console.WriteLine(\"Teenager\");\n",
        "}\n",
        "else\n",
        "{\n",
        "    Console.WriteLine(\"Adult\");\n",
        "}"
      ]
    },
    {
      "cell_type": "markdown",
      "id": "f53cbb82",
      "metadata": {},
      "source": [
        "## Ternary Operator\n",
        "\n",
        "The ternary operator is a shorthand for simple `if..else` expressions."
      ]
    },
    {
      "cell_type": "code",
      "execution_count": 3,
      "id": "2225d0f9",
      "metadata": {
        "language_info": {
          "name": "polyglot-notebook"
        },
        "polyglot_notebook": {
          "kernelName": "csharp"
        }
      },
      "outputs": [
        {
          "name": "stdout",
          "output_type": "stream",
          "text": [
            "7 is Odd\r\n"
          ]
        }
      ],
      "source": [
        "int number = 7;\n",
        "string parity = (number % 2 == 0) ? \"Even\" : \"Odd\";\n",
        "Console.WriteLine($\"{number} is {parity}\");"
      ]
    },
    {
      "cell_type": "markdown",
      "id": "58b611cf",
      "metadata": {},
      "source": [
        "## Switch\n",
        "\n",
        "`switch` statements are useful when you need to compare the same variable against multiple values."
      ]
    },
    {
      "cell_type": "code",
      "execution_count": 4,
      "id": "af5bc210",
      "metadata": {
        "language_info": {
          "name": "polyglot-notebook"
        },
        "polyglot_notebook": {
          "kernelName": "csharp"
        }
      },
      "outputs": [
        {
          "name": "stdout",
          "output_type": "stream",
          "text": [
            "Good\r\n"
          ]
        }
      ],
      "source": [
        "string grade = \"B\";\n",
        "\n",
        "switch (grade)\n",
        "{\n",
        "    case \"A\":\n",
        "        Console.WriteLine(\"Excellent!\");\n",
        "        break;\n",
        "    case \"B\":\n",
        "        Console.WriteLine(\"Good\");\n",
        "        break;\n",
        "    case \"C\":\n",
        "        Console.WriteLine(\"Average\");\n",
        "        break;\n",
        "    default:\n",
        "        Console.WriteLine(\"Needs improvement\");\n",
        "        break;\n",
        "}"
      ]
    },
    {
      "cell_type": "markdown",
      "id": "e6a6ace5",
      "metadata": {},
      "source": [
        "Since C# 8 you can also use **switch expressions**:"
      ]
    },
    {
      "cell_type": "code",
      "execution_count": 5,
      "id": "a8b3bb57",
      "metadata": {
        "language_info": {
          "name": "polyglot-notebook"
        },
        "polyglot_notebook": {
          "kernelName": "csharp"
        }
      },
      "outputs": [
        {
          "name": "stdout",
          "output_type": "stream",
          "text": [
            "Good\r\n"
          ]
        }
      ],
      "source": [
        "string grade = \"B\";\n",
        "string message = grade switch\n",
        "{\n",
        "    \"A\" => \"Excellent!\",\n",
        "    \"B\" => \"Good\",\n",
        "    \"C\" => \"Average\",\n",
        "    _   => \"Needs improvement\"\n",
        "};\n",
        "\n",
        "Console.WriteLine(message);"
      ]
    },
    {
      "cell_type": "markdown",
      "id": "d54623c9",
      "metadata": {},
      "source": [
        "## While\n",
        "\n",
        "A `while` loop repeats code as long as a condition remains true."
      ]
    },
    {
      "cell_type": "code",
      "execution_count": 6,
      "id": "ea0df4fa",
      "metadata": {
        "language_info": {
          "name": "polyglot-notebook"
        },
        "polyglot_notebook": {
          "kernelName": "csharp"
        }
      },
      "outputs": [
        {
          "name": "stdout",
          "output_type": "stream",
          "text": [
            "Count is 0\n",
            "Count is 1\n",
            "Count is 2\n",
            "Count is 3\n",
            "Count is 4\n"
          ]
        }
      ],
      "source": [
        "int count = 0;\n",
        "\n",
        "while (count < 5)\n",
        "{\n",
        "    Console.WriteLine($\"Count is {count}\");\n",
        "    count++;\n",
        "}"
      ]
    },
    {
      "cell_type": "markdown",
      "id": "31a51f1c",
      "metadata": {},
      "source": [
        "Be careful not to create infinite loops if the condition never becomes false.\n",
        "\n",
        "## Do..While\n",
        "\n",
        "A `do..while` loop always executes the body **at least once**, then checks the condition."
      ]
    },
    {
      "cell_type": "code",
      "execution_count": 7,
      "id": "ada3b0ab",
      "metadata": {
        "language_info": {
          "name": "polyglot-notebook"
        },
        "polyglot_notebook": {
          "kernelName": "csharp"
        }
      },
      "outputs": [
        {
          "name": "stdout",
          "output_type": "stream",
          "text": [
            "1 \n",
            "1 2 3 4 5 \n"
          ]
        }
      ],
      "source": [
        "int i = 0;\n",
        "string result = \"\";\n",
        "\n",
        "do\n",
        "{\n",
        "    i++;\n",
        "    result += i + \" \";\n",
        "}\n",
        "while (i < 0); // this condition is false from the start\n",
        "\n",
        "Console.WriteLine(result); // Output: \"1 \"\n",
        "\n",
        "int j = 0;\n",
        "string output = \"\";\n",
        "\n",
        "do\n",
        "{\n",
        "    j++;\n",
        "    output += j + \" \";\n",
        "}\n",
        "while (j < 5);\n",
        "\n",
        "Console.WriteLine(output); // Output: \"1 2 3 4 5 \""
      ]
    },
    {
      "cell_type": "markdown",
      "id": "12a9e0f3",
      "metadata": {},
      "source": [
        "## For\n",
        "\n",
        "A `for` loop is often used when you know how many times you want to repeat an action."
      ]
    },
    {
      "cell_type": "code",
      "execution_count": 8,
      "id": "ab7a7f61",
      "metadata": {
        "language_info": {
          "name": "polyglot-notebook"
        },
        "polyglot_notebook": {
          "kernelName": "csharp"
        }
      },
      "outputs": [
        {
          "name": "stdout",
          "output_type": "stream",
          "text": [
            "Iteration 0\n",
            "Iteration 1\n",
            "Iteration 2\n",
            "Iteration 3\n",
            "Iteration 4\n"
          ]
        }
      ],
      "source": [
        "for (int i = 0; i < 5; i++)\n",
        "{\n",
        "    Console.WriteLine($\"Iteration {i}\");\n",
        "}"
      ]
    },
    {
      "cell_type": "markdown",
      "id": "c90837cf",
      "metadata": {},
      "source": [
        "## Break and Continue\n",
        "\n",
        "- `break` exits the nearest loop immediately.\n",
        "- `continue` skips to the next iteration without running the rest of the loop body."
      ]
    },
    {
      "cell_type": "code",
      "execution_count": 9,
      "id": "74d44e92",
      "metadata": {
        "language_info": {
          "name": "polyglot-notebook"
        },
        "polyglot_notebook": {
          "kernelName": "csharp"
        }
      },
      "outputs": [
        {
          "name": "stdout",
          "output_type": "stream",
          "text": [
            "0\n",
            "1\n",
            "2\n",
            "4\n",
            "5\n",
            "6\n"
          ]
        }
      ],
      "source": [
        "for (int i = 0; i < 10; i++)\n",
        "{\n",
        "    if (i == 3)\n",
        "    {\n",
        "        continue; // skip 3\n",
        "    }\n",
        "    if (i == 7)\n",
        "    {\n",
        "        break; // stop the loop at 7\n",
        "    }\n",
        "    Console.WriteLine(i);\n",
        "}"
      ]
    },
    {
      "cell_type": "markdown",
      "id": "c2d2b0ce",
      "metadata": {},
      "source": [
        "## Putting it together\n",
        "\n",
        "Here is an example that combines conditionals and loops:"
      ]
    },
    {
      "cell_type": "code",
      "execution_count": 10,
      "id": "670c3ef9",
      "metadata": {
        "language_info": {
          "name": "polyglot-notebook"
        },
        "polyglot_notebook": {
          "kernelName": "csharp"
        }
      },
      "outputs": [
        {
          "name": "stdout",
          "output_type": "stream",
          "text": [
            "1 is odd\n",
            "2 is even\n",
            "3 is odd\n",
            "4 is even\n",
            "5 is odd\n",
            "6 is even\n",
            "7 is odd\n",
            "8 is even\n",
            "9 is odd\n",
            "10 is even\n"
          ]
        }
      ],
      "source": [
        "for (int i = 1; i <= 10; i++)\n",
        "{\n",
        "    string label = (i % 2 == 0) ? \"even\" : \"odd\"; // ternary operator\n",
        "    Console.WriteLine($\"{i} is {label}\");\n",
        "}"
      ]
    },
    {
      "cell_type": "markdown",
      "id": "18e7585c",
      "metadata": {},
      "source": [
        "Just like in Python or JavaScript conditionals and loops are the building blocks of program logic. In the next lesson we will extend these ideas with arrays and collections, where loops become even more powerful."
      ]
    }
  ],
  "metadata": {
    "kernelspec": {
      "display_name": ".NET (C#)",
      "language": "C#",
      "name": ".net-csharp"
    },
    "language_info": {
      "name": "polyglot-notebook"
    },
    "polyglot_notebook": {
      "kernelInfo": {
        "defaultKernelName": "csharp",
        "items": [
          {
            "aliases": [],
            "languageName": "csharp",
            "name": "csharp"
          }
        ]
      }
    }
  },
  "nbformat": 4,
  "nbformat_minor": 5
}
