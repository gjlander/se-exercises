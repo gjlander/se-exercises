{
 "cells": [
  {
   "cell_type": "markdown",
   "id": "92949ae6",
   "metadata": {},
   "source": [
    "# Throw vs Handle\n",
    "\n",
    "When writing applications, errors can and will occur. In C#, exceptions are the mechanism used to represent runtime errors. As a developer, you have two main choices: **throw an exception** or **handle an exception**."
   ]
  },
  {
   "cell_type": "markdown",
   "id": "ff544c91",
   "metadata": {},
   "source": [
    "## Throwing exceptions\n",
    "\n",
    "- You *throw* an exception when your code detects an error that it cannot resolve on its own.\n",
    "- Use the `throw` keyword to signal that something went wrong.\n",
    "- Throwing passes control up the call stack until it is caught by a suitable `catch` block (or the program crashes)."
   ]
  },
  {
   "cell_type": "code",
   "execution_count": null,
   "id": "fb5e154a",
   "metadata": {},
   "outputs": [],
   "source": [
    "// Program.cs\n",
    "var calculator = new Calculator();\n",
    "calculator.Divide(10, 0);\n",
    "\n",
    "// Calculator.cs\n",
    "public class Calculator\n",
    "{\n",
    "    public int Divide(int a, int b)\n",
    "    {\n",
    "        if (b == 0)\n",
    "        {\n",
    "            throw new DivideByZeroException(\"You tried to divide by zero.\");\n",
    "        }\n",
    "        return a / b;\n",
    "    }\n",
    "}"
   ]
  },
  {
   "cell_type": "markdown",
   "id": "ae718053",
   "metadata": {},
   "source": [
    "## Handling exceptions\n",
    "\n",
    "- You *handle* an exception when you anticipate that something might go wrong and you want to recover gracefully.\n",
    "- Use `try`/`catch` blocks to intercept exceptions and decide what to do.\n",
    "- Handling prevents the program from crashing and allows you to provide meaningful messages or fallback behaviour."
   ]
  },
  {
   "cell_type": "code",
   "execution_count": null,
   "id": "bce287e7",
   "metadata": {},
   "outputs": [],
   "source": [
    "// Program.cs\n",
    "var calc = new Calculator();\n",
    "try\n",
    "{\n",
    "    var result = calc.Divide(10, 0);\n",
    "    Console.WriteLine(result);\n",
    "}\n",
    "catch (DivideByZeroException ex)\n",
    "{\n",
    "    Console.WriteLine($\"Error: {ex.Message}\");\n",
    "}\n",
    "\n",
    "// Calculator.cs\n",
    "public class Calculator\n",
    "{\n",
    "    public int Divide(int a, int b)\n",
    "    {\n",
    "        if (b == 0)\n",
    "        {\n",
    "            throw new DivideByZeroException(\"You tried to divide by zero.\");\n",
    "        }\n",
    "        return a / b;\n",
    "    }\n",
    "}"
   ]
  },
  {
   "cell_type": "markdown",
   "id": "34e9b95e",
   "metadata": {},
   "source": [
    "## Common exceptions\n",
    "\n",
    "Some of the most common exception types in .NET are:\n",
    "\n",
    "- **Exception** – Base class for all exceptions.\n",
    "- **IndexOutOfRangeException** – Thrown when an array is indexed improperly.\n",
    "    \n",
    "    Example: `arr[arr.Length+1]`\n",
    "    \n",
    "- **NullReferenceException** – Thrown when a null object is referenced.\n",
    "    \n",
    "    Example: `object o = null; o.ToString();`\n",
    "    \n",
    "- **InvalidOperationException** – Thrown when a method call is invalid for the object's state.\n",
    "    \n",
    "    Example: calling `Enumerator.MoveNext()` after modifying the underlying collection.\n",
    "    \n",
    "- **ArgumentException** – Base class for all argument exceptions.\n",
    "- **ArgumentNullException** – Thrown when a method argument is null but not allowed.\n",
    "    \n",
    "    Example: `\"Calculate\".IndexOf(null);`\n",
    "    \n",
    "- **ArgumentOutOfRangeException** – Thrown when an argument value is outside the valid range.\n",
    "    \n",
    "    Example: `\"string\".Substring(\"string\".Length+1);`"
   ]
  },
  {
   "cell_type": "markdown",
   "id": "edf333d3",
   "metadata": {},
   "source": [
    "## When to throw vs handle\n",
    "\n",
    "- **Throw:** when your method cannot complete its job due to invalid input, unavailable resources, or logic errors that the caller should be aware of.\n",
    "- **Handle:** when your method knows how to recover, retry, log, or provide a fallback without crashing the application."
   ]
  },
  {
   "cell_type": "markdown",
   "id": "e0b7d734",
   "metadata": {},
   "source": [
    "## Summary\n",
    "\n",
    "- Throwing exceptions passes responsibility to the caller.\n",
    "- Handling exceptions contains the error and avoids application failure.\n",
    "- Good practice is to throw exceptions for exceptional situations, not for normal control flow.\n",
    "- Always balance throwing with handling: throw where it makes sense, and handle where recovery is possible."
   ]
  }
 ],
 "metadata": {
  "kernelspec": {
   "display_name": ".NET (C#)",
   "language": "C#",
   "name": ".net-csharp"
  },
  "language_info": {
   "name": "polyglot-notebook"
  },
  "polyglot_notebook": {
   "kernelInfo": {
    "defaultKernelName": "csharp",
    "items": [
     {
      "aliases": [],
      "name": "csharp"
     }
    ]
   }
  }
 },
 "nbformat": 4,
 "nbformat_minor": 5
}
