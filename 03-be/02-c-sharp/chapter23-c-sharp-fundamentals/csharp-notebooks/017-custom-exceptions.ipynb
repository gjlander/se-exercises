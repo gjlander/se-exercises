{
 "cells": [
  {
   "cell_type": "markdown",
   "id": "3b5a36b0",
   "metadata": {},
   "source": [
    "# Custom Exceptions\n",
    "\n",
    "So far, we have seen how to throw and handle built‑in exceptions such as `NullReferenceException` or `DivideByZeroException`. However, sometimes you want to represent a domain‑specific error in a clearer way. That's when **custom exceptions** come in.\n",
    "\n",
    "## Why create a custom exception?\n",
    "\n",
    "- To make error handling more expressive and meaningful.\n",
    "- To separate your application's domain errors from generic .NET runtime errors.\n",
    "- To provide extra properties or context that help in debugging."
   ]
  },
  {
   "cell_type": "markdown",
   "id": "9b67ab0b",
   "metadata": {},
   "source": [
    "## How to define a custom exception\n",
    "\n",
    "A custom exception is simply a class that inherits from `System.Exception` (or one of its derived types). Good practice is to:\n",
    "\n",
    "- Derive directly from `Exception` or a relevant subclass like `ApplicationException`.\n",
    "- Add the standard set of constructors.\n",
    "- Make the class `public`"
   ]
  },
  {
   "cell_type": "code",
   "execution_count": null,
   "id": "9ea101a2",
   "metadata": {},
   "outputs": [],
   "source": [
    "// InsufficientFundsException.cs\n",
    "public class InsufficientFundsException : Exception\n",
    "{\n",
    "    public decimal CurrentBalance { get; }\n",
    "    public decimal AttemptedWithdrawal { get; }\n",
    "\n",
    "    public InsufficientFundsException(string message, decimal balance, decimal attempted)\n",
    "        : base(message)\n",
    "    {\n",
    "        CurrentBalance = balance;\n",
    "        AttemptedWithdrawal = attempted;\n",
    "    }\n",
    "}\n",
    "\n",
    "// BankAccount.cs\n",
    "public class BankAccount\n",
    "{\n",
    "    public decimal Balance { get; private set; } = 100;\n",
    "\n",
    "    public void Withdraw(decimal amount)\n",
    "    {\n",
    "        if (amount > Balance)\n",
    "        {\n",
    "            throw new InsufficientFundsException(\n",
    "                $\"Attempted to withdraw {amount}, but balance is {Balance}.\",\n",
    "                Balance,\n",
    "                amount\n",
    "            );\n",
    "        }\n",
    "        Balance -= amount;\n",
    "    }\n",
    "}\n",
    "\n",
    "// Program.cs\n",
    "var account = new BankAccount();\n",
    "try\n",
    "{\n",
    "    account.Withdraw(200);\n",
    "}\n",
    "catch (InsufficientFundsException ex)\n",
    "{\n",
    "    Console.WriteLine($\"Error: {ex.Message}\");\n",
    "    Console.WriteLine($\"Balance={ex.CurrentBalance}, Attempted={ex.AttemptedWithdrawal}\");\n",
    "}"
   ]
  },
  {
   "cell_type": "markdown",
   "id": "bdfb2812",
   "metadata": {},
   "source": [
    "## Best practices\n",
    "\n",
    "- Only create a custom exception when the existing exceptions do not clearly express the error condition.\n",
    "- Provide meaningful names that end with *Exception*.\n",
    "- Include extra context data as properties to aid in diagnostics."
   ]
  },
  {
   "cell_type": "markdown",
   "id": "e4f959f0",
   "metadata": {},
   "source": [
    "## Summary\n",
    "\n",
    "- Custom exceptions let you model errors specific to your application's domain.\n",
    "- They behave like any other exception: you can throw them and handle them with `try`/`catch`.\n",
    "- Clear, domain‑specific exceptions improve maintainability and debugging."
   ]
  }
 ],
 "metadata": {
  "kernelspec": {
   "display_name": ".NET (C#)",
   "language": "C#",
   "name": ".net-csharp"
  },
  "language_info": {
   "name": "polyglot-notebook"
  },
  "polyglot_notebook": {
   "kernelInfo": {
    "defaultKernelName": "csharp",
    "items": [
     {
      "aliases": [],
      "name": "csharp"
     }
    ]
   }
  }
 },
 "nbformat": 4,
 "nbformat_minor": 5
}
