{
 "cells": [
  {
   "cell_type": "markdown",
   "id": "21e63a91",
   "metadata": {},
   "source": [
    "# Classes and Objects\n",
    "\n",
    "So far, we've used simple classes with **static methods** (meaning we didn't need to instantiate the class) to demonstrate basic syntax in C#. However, objects as representations are made out of **properties** (characteristics) and **methods** (behaviour). Now it's time to explore classes as **blueprints** and objects as the **instances** we create from those blueprints. This is a key idea that leads directly into object‑oriented programming (OOP).\n",
    "\n",
    "**What is a class?**\n",
    "\n",
    "- A class is a blueprint that defines what data (fields, properties) and behaviour (methods) an object will have.\n",
    "- Think of it like a recipe. The recipe tells you which ingredients to use and how to combine them, but the recipe is not the dish itself.\n",
    "\n",
    "**What is an object?**\n",
    "\n",
    "- An object is a concrete instance created from a class.\n",
    "- If a class is the recipe, then an object is the actual dish you serve and taste.\n",
    "- Each object can have its own data (e.g. two cakes from the same recipe can be decorated differently).\n",
    "\n",
    "### A simple example\n",
    "\n",
    "Suppose we want a class to represent a **PuzzleBox** in an RPG (Role-playing Game):"
   ]
  },
  {
   "cell_type": "code",
   "execution_count": 1,
   "id": "d97ab0f2",
   "metadata": {
    "language_info": {
     "name": "polyglot-notebook"
    },
    "polyglot_notebook": {
     "kernelName": "csharp"
    }
   },
   "outputs": [
    {
     "name": "stdout",
     "output_type": "stream",
     "text": [
      "Aisha opens the box and finds: Golden Key\n",
      "Jonas opens the box and finds: Silver Key\n",
      "Jonas opens the box and finds: Bronze Key\n"
     ]
    }
   ],
   "source": [
    "// Program.cs (top‑level)\n",
    "var box1 = new PuzzleBox(\"Aisha\", \"Golden Key\");\n",
    "box1.Open(); // Open the box to see the secret\n",
    "\n",
    "var box2 = new PuzzleBox(\"Jonas\", \"Silver Key\");\n",
    "box2.Open(); // Open the box to see the secret\n",
    "box2.Secret = \"Bronze Key\"; // Change the secret\n",
    "box2.Open(); // Open again to see the updated secret\n",
    "\n",
    "// PuzzleBox.cs\n",
    "public class PuzzleBox\n",
    "{\n",
    "    private string _secret = \"Empty\"; // initialise to a safe default\n",
    "\n",
    "    // Constructors initialise new objects\n",
    "    public PuzzleBox(string owner, string secret)\n",
    "    {\n",
    "        Owner = owner;\n",
    "        Secret = secret; // use the property so any logic in set runs\n",
    "    }\n",
    "\n",
    "    // Full property with logic in get/set\n",
    "    public string Secret\n",
    "    {\n",
    "        get\n",
    "        {\n",
    "            // Extra logic could go here (e.g. logging, masking)\n",
    "            return _secret;\n",
    "        }\n",
    "        set\n",
    "        {\n",
    "            // Extra logic could go here (e.g. validation)\n",
    "            _secret = value;\n",
    "        }\n",
    "    }\n",
    "\n",
    "    // Automatically implemented property (no extra logic needed)\n",
    "    public string Owner { get; set; }\n",
    "\n",
    "    public void Open()\n",
    "    {\n",
    "        // Use the property, not the backing field, so any logic in get executes\n",
    "        Console.WriteLine($\"{Owner} opens the box and finds: {Secret}\");\n",
    "    }\n",
    "}"
   ]
  },
  {
   "cell_type": "markdown",
   "id": "a5acf85c",
   "metadata": {},
   "source": [
    "### Explanation\n",
    "\n",
    "- The **constructor** runs when you call `new PuzzleBox(...)` and sets up the initial state.\n",
    "- `PuzzleBox` is the class (the blueprint).\n",
    "- `box1` and `box2` are objects (instances of the `PuzzleBox` class).\n",
    "- The `Secret` property shows the longer form with explicit `get` and `set`, which allows custom logic.\n",
    "- The `Owner` property uses the shorter automatically implemented form when no extra logic is needed.\n",
    "- All objects share the same behaviour (`Open`) but contain different data.\n",
    "\n",
    "Classes and objects form the foundation of a C# program. As we mentioned already, C# was created with OOP in mind, this lets you:\n",
    "\n",
    "- Model real‑world entities more naturally (a `PuzzleBox`, a `BankAccount`, a `Ticket`)\n",
    "- Reuse and organise code effectively\n",
    "\n",
    "Next, we'll discuss each one of the four pillars of OOP: **Encapsulation, Inheritance, Polymorphism, Abstraction**"
   ]
  }
 ],
 "metadata": {
  "kernelspec": {
   "display_name": ".NET (C#)",
   "language": "C#",
   "name": ".net-csharp"
  },
  "language_info": {
   "name": "polyglot-notebook"
  },
  "polyglot_notebook": {
   "kernelInfo": {
    "defaultKernelName": "csharp",
    "items": [
     {
      "aliases": [],
      "name": "csharp"
     }
    ]
   }
  }
 },
 "nbformat": 4,
 "nbformat_minor": 5
}
