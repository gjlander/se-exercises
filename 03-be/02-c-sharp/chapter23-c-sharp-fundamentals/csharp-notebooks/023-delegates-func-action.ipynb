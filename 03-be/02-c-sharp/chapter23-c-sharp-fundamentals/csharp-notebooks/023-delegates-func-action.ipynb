{
 "cells": [
  {
   "cell_type": "markdown",
   "id": "a082f2f6",
   "metadata": {},
   "source": [
    "# Delegates, Func, and Action\n",
    "\n",
    "In this lecture, we explore **delegates**, one of the most powerful features in C#. Delegates let you treat methods as variables: you can pass them around, store them, and invoke them later. We will also look at **Func** and **Action**, two built-in delegate types that simplify common scenarios, and finish with **events**, which build on delegates to enable publish–subscribe programming.\n",
    "\n",
    "## What is a Delegate?\n",
    "\n",
    "A **delegate** is a type-safe object that can reference a method with a specific signature.\n",
    "\n",
    "In practice, delegates shine when you pass them into another class or method as a **callback**. That way, the receiving class can execute the delegate without needing to know the implementation details.\n",
    "\n",
    "**Example: Custom delegate with a callback parameter**"
   ]
  },
  {
   "cell_type": "code",
   "execution_count": null,
   "id": "1795cb96",
   "metadata": {},
   "outputs": [],
   "source": [
    "var calc = new Calculator();\n",
    "Console.WriteLine(calc.Compute(3, 4, MathService.Add));      // 7\n",
    "Console.WriteLine(calc.Compute(3, 4, MathService.Multiply)); // 12\n",
    "\n",
    "public delegate int Operation(int x, int y);\n",
    "\n",
    "class MathService\n",
    "{\n",
    "    public static int Add(int a, int b) => a + b;\n",
    "    public static int Multiply(int a, int b) => a * b;\n",
    "}\n",
    "\n",
    "class Calculator\n",
    "{\n",
    "    public int Compute(int a, int b, Operation operation)\n",
    "    {\n",
    "        return operation(a, b);\n",
    "    }\n",
    "}"
   ]
  },
  {
   "cell_type": "markdown",
   "id": "843478c0",
   "metadata": {},
   "source": [
    "Here, the `Calculator` doesn't know *how* the numbers should be combined. Instead, it relies on the delegate provided. This is a common and powerful use case for delegates.\n",
    "\n",
    "## Delegate vs Func\n",
    "\n",
    "You can write the same design using `Func` without declaring a custom delegate."
   ]
  },
  {
   "cell_type": "code",
   "execution_count": null,
   "id": "0790faae",
   "metadata": {},
   "outputs": [],
   "source": [
    "var calc2 = new Calculator();\n",
    "Console.WriteLine(calc2.Compute(10, 5, MathService.Add));      // 15\n",
    "Console.WriteLine(calc2.Compute(10, 5, MathService.Multiply)); // 50\n",
    "Console.WriteLine(calc2.Compute(10, 5, (x, y) => x - y));      // 5 (inline lambda)\n",
    "\n",
    "class MathService\n",
    "{\n",
    "    public static int Add(int a, int b) => a + b;\n",
    "    public static int Multiply(int a, int b) => a * b;\n",
    "}\n",
    "\n",
    "class Calculator\n",
    "{\n",
    "    public int Compute(int a, int b, Func<int, int, int> operation)\n",
    "    {\n",
    "        return operation(a, b);\n",
    "    }\n",
    "}"
   ]
  },
  {
   "cell_type": "markdown",
   "id": "570cc0f9",
   "metadata": {},
   "source": [
    "**So what's the difference?**\n",
    "\n",
    "- A custom delegate (`Operation`) gives you a clear, domain-specific name. This can make APIs easier to read when the delegate plays an important role.\n",
    "- `Func` (or `Action`) saves you from writing boilerplate delegate declarations. They are flexible, reusable, and cover most scenarios in modern C#.\n",
    "\n",
    "## Func\n",
    "\n",
    "`Func` is a built-in delegate that represents a method that returns a value. The last type parameter is the return type, and the others are the input parameters.\n",
    "\n",
    "**Example: Flexible price calculator**"
   ]
  },
  {
   "cell_type": "code",
   "execution_count": null,
   "id": "f1cfdc31",
   "metadata": {},
   "outputs": [],
   "source": [
    "var engine = new PriceEngine();\n",
    "\n",
    "Func<decimal, decimal> halfOff = p => p / 2;\n",
    "Func<decimal, decimal> addTax = p => p * 1.2m;\n",
    "Func<decimal, decimal> noDiscount = p => p;\n",
    "Func<decimal, decimal> iDontLikeYouPrice = p => p * 2.5m;\n",
    "\n",
    "Console.WriteLine(engine.CalculatePrice(100, halfOff)); // 50\n",
    "Console.WriteLine(engine.CalculatePrice(100, addTax));  // 120\n",
    "Console.WriteLine(engine.CalculatePrice(100, noDiscount)); // 100\n",
    "Console.WriteLine(engine.CalculatePrice(100, iDontLikeYouPrice)); // 250\n",
    "\n",
    "class PriceEngine\n",
    "{\n",
    "    public decimal CalculatePrice(decimal basePrice, Func<decimal, decimal> strategy)\n",
    "    {\n",
    "        return strategy(basePrice);\n",
    "    }\n",
    "}"
   ]
  },
  {
   "cell_type": "markdown",
   "id": "623e2aa0",
   "metadata": {},
   "source": [
    "Here, `CalculatePrice` can apply *any* pricing strategy without needing to know the details.\n",
    "\n",
    "## Action\n",
    "\n",
    "`Action` is a built-in delegate that represents a method that **does not return a value**. Instead of hardcoding behaviour into a method, you can inject what should happen.\n",
    "\n",
    "**Example: Logging strategy**"
   ]
  },
  {
   "cell_type": "code",
   "execution_count": null,
   "id": "e4104d86",
   "metadata": {},
   "outputs": [],
   "source": [
    "using System.IO;\n",
    "\n",
    "var processor = new Processor();\n",
    "// Log to console\n",
    "processor.Process(msg => Console.WriteLine($\"Console: {msg}\"));\n",
    "// Log to file\n",
    "processor.Process(msg => File.AppendAllText(\"log.txt\", msg + \"\\n\"));\n",
    "\n",
    "class Processor\n",
    "{\n",
    "    public void Process(Action<string> logAction)\n",
    "    {\n",
    "        logAction(\"Processing started\");\n",
    "        // ... do some work ...\n",
    "        logAction(\"Processing finished\");\n",
    "    }\n",
    "}"
   ]
  },
  {
   "cell_type": "markdown",
   "id": "e9c6c023",
   "metadata": {},
   "source": [
    "This shows how `Action` makes it easy to swap out different behaviours (console vs file logging) without changing the `Processor` class.\n",
    "\n",
    "## Events\n",
    "\n",
    "An **event** (`EventHandler`) is a special kind of delegate used for publish–subscribe communication. An object (the publisher) can announce something has happened, and other objects (the subscribers) can respond. Miscrosoft defines the cannonical way of handling events [here](https://learn.microsoft.com/en-us/dotnet/standard/events/)\n",
    "\n",
    "**Example**"
   ]
  },
  {
   "cell_type": "code",
   "execution_count": null,
   "id": "dfef62a0",
   "metadata": {},
   "outputs": [],
   "source": [
    "var youtuber = new YouTuber();\n",
    "var listener1 = new Subscriber();\n",
    "var listener2 = new Subscriber();\n",
    "var listener3 = new Subscriber();\n",
    "var listener4 = new Subscriber();\n",
    "var listener5 = new Subscriber();\n",
    "\n",
    "// Subscribe\n",
    "// The operator += allows for a multicast Delegate, that contains a list to all the subscribers.\n",
    "youtuber.Notify += listener1.OnNewVideo;\n",
    "youtuber.Notify += listener2.OnNewVideoFromFavorite;\n",
    "youtuber.Notify += listener3.OnNewVideo;\n",
    "youtuber.Notify += listener4.OnNewVideo;\n",
    "youtuber.Notify += listener5.OnNewVideoFromFavorite;\n",
    "\n",
    "// Trigger the event\n",
    "youtuber.PublishVideo(\"Top 10 C# Tips\");\n",
    "\n",
    "// Unsubscribe\n",
    "youtuber.Notify -= listener2.OnNewVideoFromFavorite;\n",
    "youtuber.Notify -= listener5.OnNewVideoFromFavorite;\n",
    "\n",
    "// Trigger the event again\n",
    "youtuber.PublishVideo(\"Advanced Event Handling\");\n",
    "\n",
    "// EventArgs subclass to hold event data\n",
    "public class VideoEventArgs : EventArgs\n",
    "{\n",
    "    public string Title { get; }\n",
    "    public VideoEventArgs(string title) => Title = title;\n",
    "}\n",
    "\n",
    "public class YouTuber\n",
    "{\n",
    "    // EventHandler is a special kind of delegate for events.\n",
    "    public event EventHandler<VideoEventArgs>? Notify;\n",
    "\n",
    "    public void PublishVideo(string title)\n",
    "    {\n",
    "        Console.WriteLine($\"YouTuber: Publishing '{title}'...\");\n",
    "        OnNotify(new VideoEventArgs(title));\n",
    "    }\n",
    "\n",
    "    // Typically, to raise an event, you add a method that is marked as protected and virtual\n",
    "    // This way, classes that inherit from YouTuber can override if needed!\n",
    "    protected virtual void OnNotify(VideoEventArgs e)\n",
    "    {\n",
    "        Notify?.Invoke(this, e);\n",
    "    }\n",
    "}\n",
    "\n",
    "public class Subscriber\n",
    "{\n",
    "    public void OnNewVideo(object? sender, VideoEventArgs e)\n",
    "    {\n",
    "        Console.WriteLine($\"Subscriber: New video published! Title: {e.Title}\");\n",
    "    }\n",
    "\n",
    "    public void OnNewVideoFromFavorite(object? sender, VideoEventArgs e)\n",
    "    {\n",
    "        Console.WriteLine($\"Subscriber: My favorite YouTuber uploaded '{e.Title}'!\");\n",
    "    }\n",
    "}"
   ]
  },
  {
   "cell_type": "markdown",
   "id": "6ecc2f11",
   "metadata": {},
   "source": [
    "**Output**\n",
    "\n",
    "```\n",
    "YouTuber: Publishing 'Top 10 C# Tips'...\n",
    "Subscriber: New video published! Title: Top 10 C# Tips\n",
    "Subscriber: My favorite YouTuber uploaded 'Top 10 C# Tips'!\n",
    "Subscriber: New video published! Title: Top 10 C# Tips\n",
    "Subscriber: New video published! Title: Top 10 C# Tips\n",
    "Subscriber: My favorite YouTuber uploaded 'Top 10 C# Tips'!\n",
    "YouTuber: Publishing 'Advanced Event Handling'...\n",
    "Subscriber: New video published! Title: Advanced Event Handling\n",
    "Subscriber: New video published! Title: Advanced Event Handling\n",
    "Subscriber: New video published! Title: Advanced Event Handling\n",
    "```\n",
    "\n",
    "**Why use events?**\n",
    "\n",
    "- They enable loose coupling (publisher does not need to know about subscribers).\n",
    "- They are the foundation for GUI programming, system notifications, and reactive patterns."
   ]
  },
  {
   "cell_type": "markdown",
   "id": "950854c2",
   "metadata": {},
   "source": [
    "## Why Use Delegates, Func, Action, and Events?\n",
    "\n",
    "- Pass behaviour into methods (functions as parameters).\n",
    "- Build flexible and reusable code.\n",
    "- Provide the foundation for LINQ, events, and asynchronous programming.\n",
    "- Events add structured communication between objects.\n",
    "\n",
    "## Summary Table\n",
    "\n",
    "| Type | Returns a Value? | Parameters | Example |\n",
    "| --- | --- | --- | --- |\n",
    "| **Delegate** | Depends on signature | Defined by you | `public delegate int Operation(int x, int y);` |\n",
    "| **Func** | Yes | Up to 16 input parameters | `Func<int, int, int> op = MathService.Add;` |\n",
    "| **Action** | No | Up to 16 input parameters | `processor.Process(msg => Console.WriteLine(msg));` |\n",
    "| **EventHandler or EventHandler<T>** | N/A | Subscribers define handlers | `public event EventHandler<VideoEventArgs>? Notify;` |"
   ]
  }
 ],
 "metadata": {
  "kernelspec": {
   "display_name": ".NET (C#)",
   "language": "C#",
   "name": ".net-csharp"
  },
  "language_info": {
   "name": "polyglot-notebook"
  },
  "polyglot_notebook": {
   "kernelInfo": {
    "defaultKernelName": "csharp",
    "items": [
     {
      "aliases": [],
      "name": "csharp"
     }
    ]
   }
  }
 },
 "nbformat": 4,
 "nbformat_minor": 5
}
