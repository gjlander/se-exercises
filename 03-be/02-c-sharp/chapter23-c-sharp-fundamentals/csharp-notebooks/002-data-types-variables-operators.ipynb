{
 "cells": [
  {
   "cell_type": "markdown",
   "id": "9fd91cac",
   "metadata": {},
   "source": [
    "C# is a statically typed language, which means every variable has a type known at compile time. Types define the kind of data you can store and the operations you can perform.\n",
    "\n",
    "### Built-in Data Types\n",
    "\n",
    "Some of the most common built-in types are:\n",
    "\n",
    "- **int** – 32‑bit whole numbers, range about ±2 billion (`int age = 30;`)\n",
    "- **long** – 64‑bit whole numbers, much larger range (`long population = 8000000000;`)\n",
    "- **float** – 32‑bit floating‑point number (`float temperature = 36.6F;`)\n",
    "- **double** – 64‑bit floating‑point number (`double price = 9.99D;`)\n",
    "- **bool** – true or false values (`bool isActive = true;`)\n",
    "- **string** – sequences of characters (`string name = \"Alice\";`)\n",
    "- **char** – a single character (`char grade = 'A';`)\n",
    "\n",
    "**Precision and size**\n",
    "\n",
    "- `int` can hold values between roughly ±2 billion, while `long` can store values up to ±9 quintillion.\n",
    "- Here’s the full list of [Integral numeric types](https://learn.microsoft.com/en-us/dotnet/csharp/language-reference/builtin-types/integral-numeric-types)\n",
    "- `float` gives about 7 digits of precision, while `double` gives about 15–16 digits. Use `double` when accuracy is important.\n",
    "- Here’s the full list of [Float point numeric types](https://learn.microsoft.com/en-us/dotnet/csharp/language-reference/builtin-types/floating-point-numeric-types)\n",
    "\n",
    "**Suffixes**\n",
    "\n",
    "- `F` tells the compiler a literal is a float: `float t = 36.6F;`\n",
    "- `D` can be used for clarity to mark a double literal: `double p = 9.99D;`\n",
    "- Without a suffix, decimals with a dot default to `double`.\n",
    "\n",
    "**Scientific notation**\n",
    "\n",
    "You can use `e` or `E` for powers of ten:"
   ]
  },
  {
   "cell_type": "code",
   "execution_count": 2,
   "id": "a140c266",
   "metadata": {
    "language_info": {
     "name": "polyglot-notebook"
    },
    "polyglot_notebook": {
     "kernelName": "csharp"
    }
   },
   "outputs": [
    {
     "name": "stdout",
     "output_type": "stream",
     "text": [
      "150000000\r\n"
     ]
    }
   ],
   "source": [
    "double distance = 1.5e8; // 1.5 × 10^8\n",
    "Console.WriteLine(distance);"
   ]
  },
  {
   "cell_type": "code",
   "execution_count": 3,
   "id": "b7032c6b",
   "metadata": {
    "language_info": {
     "name": "polyglot-notebook"
    },
    "polyglot_notebook": {
     "kernelName": "csharp"
    }
   },
   "outputs": [
    {
     "name": "stdout",
     "output_type": "stream",
     "text": [
      "Alice is 30 years old, grade A, active: True, balance: 9.99, temp: 36.6, world pop: 8000000000\r\n"
     ]
    }
   ],
   "source": [
    "int age = 30;\n",
    "long population = 8000000000;\n",
    "double price = 9.99D;\n",
    "float temperature = 36.6F;\n",
    "bool isActive = true;\n",
    "string name = \"Alice\";\n",
    "char grade = 'A';\n",
    "\n",
    "Console.WriteLine($\"{name} is {age} years old, grade {grade}, active: {isActive}, balance: {price}, temp: {temperature}, world pop: {population}\");"
   ]
  },
  {
   "cell_type": "markdown",
   "id": "b8b47161",
   "metadata": {},
   "source": [
    "### Variables\n",
    "\n",
    "Variables are named containers for values. You declare a variable with a type, a name, and optionally an initial value."
   ]
  },
  {
   "cell_type": "code",
   "execution_count": 4,
   "id": "ddc142bd",
   "metadata": {
    "language_info": {
     "name": "polyglot-notebook"
    },
    "polyglot_notebook": {
     "kernelName": "csharp"
    }
   },
   "outputs": [
    {
     "name": "stdout",
     "output_type": "stream",
     "text": [
      "Counter: 10, City: Rome\r\n"
     ]
    }
   ],
   "source": [
    "int counter;       // declaration\n",
    "counter = 10;      // assignment\n",
    "var city = \"Rome\"; // type inferred as string\n",
    "\n",
    "Console.WriteLine($\"Counter: {counter}, City: {city}\");"
   ]
  },
  {
   "cell_type": "markdown",
   "id": "cb8b5957",
   "metadata": {},
   "source": [
    "`var` lets the compiler infer the type from the right-hand side, but the type is still fixed after compilation.\n",
    "\n",
    "### Operators\n",
    "\n",
    "C# supports many operators. The main groups are:\n",
    "\n",
    "- **Arithmetic operators**: `+`, , , `/`, `%`\n",
    "- **Comparison operators**: `==`, `!=`, `<`, `>`, `<=`, `>=`\n",
    "- **Logical operators**: `&&` (and), `||` (or), `!` (not)\n",
    "- **Assignment operators**: `=`, `+=`, `=`, `=`, `/=`"
   ]
  },
  {
   "cell_type": "code",
   "execution_count": 5,
   "id": "0fd96388",
   "metadata": {
    "language_info": {
     "name": "polyglot-notebook"
    },
    "polyglot_notebook": {
     "kernelName": "csharp"
    }
   },
   "outputs": [
    {
     "name": "stdout",
     "output_type": "stream",
     "text": [
      "10Hey there!\n",
      "13\n",
      "7\n",
      "30\n",
      "3\n",
      "1\n",
      "True\n",
      "False\n",
      "True\n"
     ]
    }
   ],
   "source": [
    "int a = 10;\n",
    "int b = 3;\n",
    "string message = \"Hey there!\";\n",
    "\n",
    "Console.WriteLine(a + message);\n",
    "// Console.WriteLine(a * message); // This will cause a compile error because you can't multiply an int by a string\n",
    "Console.WriteLine(a + b);  // 13\n",
    "Console.WriteLine(a - b);  // 7\n",
    "Console.WriteLine(a * b);  // 30\n",
    "Console.WriteLine(a / b);  // 3 (integer division)\n",
    "Console.WriteLine(a % b);  // 1\n",
    "\n",
    "Console.WriteLine(a > b);  // True\n",
    "Console.WriteLine(a == b); // False\n",
    "\n",
    "bool result = (a > 5) && (b < 5);\n",
    "Console.WriteLine(result); // True"
   ]
  },
  {
   "cell_type": "markdown",
   "id": "26a7fa27",
   "metadata": {},
   "source": [
    "### Putting it together\n",
    "\n",
    "Here is a small example combining data types, variables, and operators:"
   ]
  },
  {
   "cell_type": "code",
   "execution_count": 6,
   "id": "e6357de2",
   "metadata": {
    "language_info": {
     "name": "polyglot-notebook"
    },
    "polyglot_notebook": {
     "kernelName": "csharp"
    }
   },
   "outputs": [
    {
     "name": "stdout",
     "output_type": "stream",
     "text": [
      "Hello Maria, 7 + 4 = 11, average = 5.5, bigNumber = 1230000\r\n"
     ]
    }
   ],
   "source": [
    "string user = \"Maria\";\n",
    "int x = 7;\n",
    "int y = 4;\n",
    "int sum = x + y;\n",
    "float average = (float)sum / 2;\n",
    "\n",
    "double bigNumber = 1.23e6; // scientific notation\n",
    "\n",
    "Console.WriteLine($\"Hello {user}, {x} + {y} = {sum}, average = {average}, bigNumber = {bigNumber}\");"
   ]
  },
  {
   "cell_type": "markdown",
   "id": "6c7dc116",
   "metadata": {},
   "source": [
    "This snippet declares variables of different types, shows arithmetic operators, and prints the results using string interpolation."
   ]
  }
 ],
 "metadata": {
  "kernelspec": {
   "display_name": ".NET (C#)",
   "language": "C#",
   "name": ".net-csharp"
  },
  "language_info": {
   "name": "polyglot-notebook"
  },
  "polyglot_notebook": {
   "kernelInfo": {
    "defaultKernelName": "csharp",
    "items": [
     {
      "aliases": [],
      "languageName": "csharp",
      "name": "csharp"
     }
    ]
   }
  }
 },
 "nbformat": 4,
 "nbformat_minor": 5
}
