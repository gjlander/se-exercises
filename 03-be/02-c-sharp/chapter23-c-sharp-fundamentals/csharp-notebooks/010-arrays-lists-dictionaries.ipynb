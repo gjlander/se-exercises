{
 "cells": [
  {
   "cell_type": "markdown",
   "id": "d9ef6ee5",
   "metadata": {},
   "source": [
    "# Arrays, Lists, and Dictionaries\n",
    "\n",
    "When we talk about arrays and collections in C#, we are really leaning on **.NET as a framework**. Collections are not unique to C#—they are defined by the .NET runtime and are therefore also available to other .NET languages such as VB.NET and F#. This is where we start to blur the line between the **core language** and the **runtime environment**.\n",
    "\n",
    "C# was originally conceived as a managed evolution of C++ (which itself extends C), but designed from the start to run on the .NET platform. When you compile C# code, it becomes **Intermediate Language (IL)**, and then the .NET runtime (the Common Language Runtime, CLR) compiles that IL into machine code for execution.\n",
    "\n",
    "For that reason, collections live in framework namespaces. For example:\n",
    "\n",
    "- Generic collections like `List<T>` and `Dictionary<TKey,TValue>` are defined in `System.Collections.Generic`.\n",
    "- Arrays are represented by the `System.Array` class type.\n",
    "\n",
    "So when we work with arrays, lists, and dictionaries, we are consuming .NET framework features through the C# language syntax."
   ]
  },
  {
   "cell_type": "markdown",
   "id": "4dcc3e78",
   "metadata": {},
   "source": [
    "## Arrays\n",
    "\n",
    "- Fixed size, strongly typed.\n",
    "- Elements are stored in contiguous memory and accessed by index (starting at 0)."
   ]
  },
  {
   "cell_type": "code",
   "execution_count": null,
   "id": "110496a1",
   "metadata": {},
   "outputs": [],
   "source": [
    "int[] numbers = new int[3];\n",
    "numbers[0] = 10;\n",
    "numbers[1] = 20;\n",
    "numbers[2] = 30;\n",
    "\n",
    "foreach (int n in numbers)\n",
    "{\n",
    "    Console.WriteLine(n);\n",
    "}"
   ]
  },
  {
   "cell_type": "markdown",
   "id": "dee423ac",
   "metadata": {},
   "source": [
    "You can also initialise directly:"
   ]
  },
  {
   "cell_type": "code",
   "execution_count": null,
   "id": "caaa415b",
   "metadata": {},
   "outputs": [],
   "source": [
    "string[] names = { \"Lina\", \"Omar\", \"Jonas\" };"
   ]
  },
  {
   "cell_type": "markdown",
   "id": "f3da920b",
   "metadata": {},
   "source": [
    "**Use when:** you know the size in advance and don't need to resize."
   ]
  },
  {
   "cell_type": "markdown",
   "id": "620b5e30",
   "metadata": {},
   "source": [
    "## Lists (`List<T>`)\n",
    "\n",
    "- Dynamic size: grows and shrinks as needed.\n",
    "- Provides useful methods like `Add`, `Remove`, `Contains`, `Sort`, `Insert`, and `Clear`."
   ]
  },
  {
   "cell_type": "code",
   "execution_count": null,
   "id": "6fff8fb8",
   "metadata": {},
   "outputs": [],
   "source": [
    "var shoppingList = new List<string>();\n",
    "shoppingList.Add(\"Milk\");\n",
    "shoppingList.Add(\"Bread\");\n",
    "shoppingList.Add(\"Eggs\");\n",
    "\n",
    "shoppingList.Remove(\"Bread\");\n",
    "\n",
    "if (shoppingList.Contains(\"Milk\"))\n",
    "{\n",
    "    Console.WriteLine(\"Milk is on the list\");\n",
    "}\n",
    "\n",
    "shoppingList.Sort();\n",
    "\n",
    "foreach (var item in shoppingList)\n",
    "{\n",
    "    Console.WriteLine(item);\n",
    "}"
   ]
  },
  {
   "cell_type": "markdown",
   "id": "0aae43fc",
   "metadata": {},
   "source": [
    "**Use when:** you need a flexible collection with built-in operations."
   ]
  },
  {
   "cell_type": "markdown",
   "id": "05eebfa0",
   "metadata": {},
   "source": [
    "## Dictionaries (`Dictionary<TKey,TValue>`)\n",
    "\n",
    "- Store pairs of **key** and **value**.\n",
    "- Extremely fast lookups by key.\n",
    "- Common methods: `Add`, `Remove`, `ContainsKey`, `TryGetValue`, `Keys`, and `Values`."
   ]
  },
  {
   "cell_type": "code",
   "execution_count": null,
   "id": "2d626c37",
   "metadata": {},
   "outputs": [],
   "source": [
    "var capitals = new Dictionary<string, string>();\n",
    "capitals.Add(\"Germany\", \"Berlin\");\n",
    "capitals[\"France\"] = \"Paris\";\n",
    "capitals[\"Japan\"] = \"Tokyo\";\n",
    "\n",
    "if (capitals.ContainsKey(\"France\"))\n",
    "{\n",
    "    Console.WriteLine($\"France → {capitals[\"France\"]}\");\n",
    "}\n",
    "\n",
    "if (capitals.TryGetValue(\"Spain\", out var city))\n",
    "{\n",
    "    Console.WriteLine(city);\n",
    "}\n",
    "else\n",
    "{\n",
    "    Console.WriteLine(\"Spain not found\");\n",
    "}\n",
    "\n",
    "foreach (var kvp in capitals)\n",
    "{\n",
    "    Console.WriteLine($\"{kvp.Key} → {kvp.Value}\");\n",
    "}"
   ]
  },
  {
   "cell_type": "markdown",
   "id": "0f65aed0",
   "metadata": {},
   "source": [
    "**Use when:** you want to associate values with unique identifiers."
   ]
  },
  {
   "cell_type": "markdown",
   "id": "796b4fb0",
   "metadata": {},
   "source": [
    "## When to use which\n",
    "\n",
    "| Collection | Size | Access | Best for |\n",
    "| --- | --- | --- | --- |\n",
    "| Array | Fixed | Index | Known number of items, fast iteration |\n",
    "| List | Dynamic | Index | Flexible collections, frequent add/remove |\n",
    "| Dictionary<TKey,TValue> | Dynamic | Key | Lookups, mapping one value to another |\n",
    "\n",
    "## Other collections in .NET\n",
    "\n",
    "C# offers many more specialised collections:\n",
    "\n",
    "- `Queue<T>` → First-in, first-out (FIFO).\n",
    "- `Stack<T>` → Last-in, first-out (LIFO).\n",
    "- `HashSet<T>` → Ensures uniqueness of elements.\n",
    "- `LinkedList<T>` → Efficient insert/remove in the middle.\n",
    "- `SortedDictionary<TKey,TValue>` / `SortedList<TKey,TValue>` → Keep elements ordered by key.\n",
    "- `ObservableCollection<T>` → Notifies when items change (often used in UIs).\n",
    "\n",
    "Arrays and collections can be visited with `foreach`"
   ]
  },
  {
   "cell_type": "markdown",
   "id": "cab059d5",
   "metadata": {},
   "source": [
    "## C# vs TypeScript: side‑by‑side\n",
    "\n",
    "Maybe you already noticed but the typing system in C# and TypeScript looks very similar. This is because [Anders Hejlsberg](https://de.wikipedia.org/wiki/Anders_Hejlsberg) was the principal developer to both projects. Let's go over a quick comparison, from basic types to generics. \n",
    "\n",
    "A key difference is that types in C# exists at runtime, whereas in TypeScript, they only exist at compile time.\n",
    "\n",
    "### Arrays"
   ]
  },
  {
   "cell_type": "code",
   "execution_count": null,
   "id": "ef03d07b",
   "metadata": {},
   "outputs": [],
   "source": [
    "// C#\n",
    "int[] nums = { 1, 2, 3 };\n",
    "string[] names = { \"Lina\", \"Omar\" };\n",
    "\n",
    "foreach (var n in nums)\n",
    "{\n",
    "    Console.WriteLine(n);\n",
    "}\n",
    "\n",
    "foreach (var name in names)\n",
    "{\n",
    "    Console.WriteLine(name);\n",
    "}"
   ]
  },
  {
   "cell_type": "markdown",
   "id": "91ae0077",
   "metadata": {},
   "source": [
    "```typescript\n",
    "// TypeScript\n",
    "const nums: number[] = [1, 2, 3];\n",
    "const names: string[] = [\"Lina\", \"Omar\"];\n",
    "\n",
    "for (const n of nums) {\n",
    "    console.log(n);\n",
    "}\n",
    "\n",
    "for (const name of names) {\n",
    "    console.log(name);\n",
    "}\n",
    "```"
   ]
  },
  {
   "cell_type": "markdown",
   "id": "6bccfcfb",
   "metadata": {},
   "source": [
    "### Resizable sequences: List vs Array"
   ]
  },
  {
   "cell_type": "code",
   "execution_count": null,
   "id": "0d22bf03",
   "metadata": {},
   "outputs": [],
   "source": [
    "// C# List<T>\n",
    "var list = new List<string>();\n",
    "list.Add(\"milk\");\n",
    "list.Add(\"eggs\");\n",
    "list.Remove(\"milk\");\n",
    "list.ForEach(item => Console.WriteLine(item));"
   ]
  },
  {
   "cell_type": "markdown",
   "id": "547f0762",
   "metadata": {},
   "source": [
    "```typescript\n",
    "// TypeScript Array<string>\n",
    "const list: string[] = [];\n",
    "list.push(\"milk\");\n",
    "list.push(\"eggs\");\n",
    "list.splice(list.indexOf(\"milk\"), 1);\n",
    "list.forEach(item => console.log(item));\n",
    "```"
   ]
  },
  {
   "cell_type": "markdown",
   "id": "89e2786a",
   "metadata": {},
   "source": [
    "### Key–value lookups: Dictionary<TKey,TValue> vs Map<K,V> / Record<K,V>"
   ]
  },
  {
   "cell_type": "code",
   "execution_count": null,
   "id": "e3e1457b",
   "metadata": {},
   "outputs": [],
   "source": [
    "// C# Dictionary<TKey,TValue>\n",
    "var capitals = new Dictionary<string, string>();\n",
    "capitals[\"Germany\"] = \"Berlin\";\n",
    "capitals.TryGetValue(\"France\", out var city);\n",
    "foreach (var (country, capital) in capitals)\n",
    "{\n",
    "    Console.WriteLine($\"{country} → {capital}\");\n",
    "}"
   ]
  },
  {
   "cell_type": "markdown",
   "id": "b17756b4",
   "metadata": {},
   "source": [
    "```typescript\n",
    "// TypeScript Map<K,V>\n",
    "const capitals = new Map<string, string>();\n",
    "capitals.set(\"Germany\", \"Berlin\");\n",
    "const city = capitals.get(\"France\");\n",
    "for (const [country, capital] of capitals) {\n",
    "  console.log(`${country} → ${capital}`);\n",
    "}\n",
    "```"
   ]
  },
  {
   "cell_type": "markdown",
   "id": "59571d56",
   "metadata": {},
   "source": [
    "### Generics syntax at a glance"
   ]
  },
  {
   "cell_type": "code",
   "execution_count": null,
   "id": "35c86808",
   "metadata": {},
   "outputs": [],
   "source": [
    "// C#\n",
    "List<int> numbers = new List<int>();\n",
    "Dictionary<string, double> prices = new();"
   ]
  },
  {
   "cell_type": "markdown",
   "id": "85066a6a",
   "metadata": {},
   "source": [
    "```typescript\n",
    "// TypeScript\n",
    "const numbers: Array<number> = [];\n",
    "const prices: Map<string, number> = new Map();\n",
    "```"
   ]
  }
 ],
 "metadata": {
  "kernelspec": {
   "display_name": ".NET (C#)",
   "language": "C#",
   "name": ".net-csharp"
  },
  "language_info": {
   "name": "polyglot-notebook"
  },
  "polyglot_notebook": {
   "kernelInfo": {
    "defaultKernelName": "csharp",
    "items": [
     {
      "aliases": [],
      "name": "csharp"
     }
    ]
   }
  }
 },
 "nbformat": 4,
 "nbformat_minor": 5
}
