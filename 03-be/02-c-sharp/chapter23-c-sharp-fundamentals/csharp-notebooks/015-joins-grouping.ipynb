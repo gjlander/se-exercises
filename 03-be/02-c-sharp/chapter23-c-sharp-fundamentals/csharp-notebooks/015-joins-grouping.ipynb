{
 "cells": [
  {
   "cell_type": "markdown",
   "id": "37c6af91",
   "metadata": {},
   "source": [
    "# Joins and Grouping\n",
    "\n",
    "In addition to filtering, selecting, and ordering, LINQ gives you powerful ways to combine sequences and organise them into groups."
   ]
  },
  {
   "cell_type": "markdown",
   "id": "0e85c9e0",
   "metadata": {},
   "source": [
    "## Joins\n",
    "\n",
    "A **join** brings together elements from two sequences based on matching keys."
   ]
  },
  {
   "cell_type": "code",
   "execution_count": null,
   "id": "0e911009",
   "metadata": {},
   "outputs": [],
   "source": [
    "// Program.cs (top-level)\n",
    "\n",
    "var students = new List<Student>\n",
    "{\n",
    "    new Student { Id = 1, Name = \"Ana\" },\n",
    "    new Student { Id = 2, Name = \"Ben\" },\n",
    "    new Student { Id = 3, Name = \"Cara\" }\n",
    "};\n",
    "\n",
    "var enrollments = new List<Enrollment>\n",
    "{\n",
    "    new Enrollment { StudentId = 1, Course = \"Math\" },\n",
    "    new Enrollment { StudentId = 2, Course = \"History\" },\n",
    "    new Enrollment { StudentId = 1, Course = \"Physics\" },\n",
    "    new Enrollment { StudentId = 3, Course = \"Biology\" }\n",
    "};\n",
    "\n",
    "// Join students with their courses\n",
    "var studentCourses = students.Join(\n",
    "    enrollments,              // inner sequence\n",
    "    s => s.Id,                // outer key selector\n",
    "    e => e.StudentId,         // inner key selector\n",
    "    (s, e) => new { s.Name, e.Course } // result selector\n",
    ");\n",
    "\n",
    "foreach (var sc in studentCourses)\n",
    "{\n",
    "    Console.WriteLine($\"{sc.Name} → {sc.Course}\");\n",
    "}\n",
    "\n",
    "// Student.cs\n",
    "public class Student\n",
    "{\n",
    "    public int Id { get; set; }\n",
    "    public string Name { get; set; } = string.Empty;\n",
    "}\n",
    "\n",
    "// Enrollment\n",
    "public class Enrollment\n",
    "{\n",
    "    public int StudentId { get; set; }\n",
    "    public string Course { get; set; } = string.Empty;\n",
    "}"
   ]
  },
  {
   "cell_type": "markdown",
   "id": "8855a42c",
   "metadata": {},
   "source": [
    "Output:\n",
    "\n",
    "```\n",
    "Ana → Math\n",
    "Ana → Physics\n",
    "Ben → History\n",
    "Cara → Biology\n",
    "```\n",
    "\n",
    "**Query expression equivalent:**"
   ]
  },
  {
   "cell_type": "code",
   "execution_count": null,
   "id": "bb992643",
   "metadata": {
    "vscode": {
     "languageId": "csharp"
    }
   },
   "outputs": [],
   "source": [
    "var studentCoursesQuery = from s in students\n",
    "                          join e in enrollments on s.Id equals e.StudentId\n",
    "                          select new { s.Name, e.Course };"
   ]
  },
  {
   "cell_type": "markdown",
   "id": "746c7db1",
   "metadata": {},
   "source": [
    "## Grouping\n",
    "\n",
    "A **grouping** partitions a sequence into subsets based on a key."
   ]
  },
  {
   "cell_type": "code",
   "execution_count": null,
   "id": "b8133d83",
   "metadata": {},
   "outputs": [],
   "source": [
    "// Program.cs (top-level)\n",
    "\n",
    "var students = new List<Student>\n",
    "{\n",
    "    new Student { Id = 1, Name = \"Ana\" },\n",
    "    new Student { Id = 2, Name = \"Ben\" },\n",
    "    new Student { Id = 3, Name = \"Cara\" }\n",
    "};\n",
    "\n",
    "var enrollments = new List<Enrollment>\n",
    "{\n",
    "    new Enrollment { StudentId = 1, Course = \"Math\" },\n",
    "    new Enrollment { StudentId = 2, Course = \"History\" },\n",
    "    new Enrollment { StudentId = 1, Course = \"Physics\" },\n",
    "    new Enrollment { StudentId = 3, Course = \"Biology\" }\n",
    "};\n",
    "\n",
    "// Group enrollments by StudentId\n",
    "var grouped = enrollments.GroupBy(e => e.StudentId);\n",
    "\n",
    "foreach (var g in grouped)\n",
    "{\n",
    "    Console.WriteLine($\"StudentId {g.Key}:\");\n",
    "    foreach (var e in g)\n",
    "    {\n",
    "        Console.WriteLine($\"  {e.Course}\");\n",
    "    }\n",
    "}\n",
    "// Student.cs\n",
    "public class Student\n",
    "{\n",
    "    public int Id { get; set; }\n",
    "    public string Name { get; set; } = string.Empty;\n",
    "}\n",
    "\n",
    "// Enrollment\n",
    "public class Enrollment\n",
    "{\n",
    "    public int StudentId { get; set; }\n",
    "    public string Course { get; set; } = string.Empty;\n",
    "}"
   ]
  },
  {
   "cell_type": "markdown",
   "id": "d2cbeb78",
   "metadata": {},
   "source": [
    "Output:\n",
    "\n",
    "```\n",
    "StudentId 1:\n",
    "  Math\n",
    "  Physics\n",
    "StudentId 2:\n",
    "  History\n",
    "StudentId 3:\n",
    "  Biology\n",
    "```\n",
    "\n",
    "**Query expression equivalent:**"
   ]
  },
  {
   "cell_type": "code",
   "execution_count": null,
   "id": "99fc537f",
   "metadata": {
    "vscode": {
     "languageId": "csharp"
    }
   },
   "outputs": [],
   "source": [
    "var groupedQuery = from e in enrollments\n",
    "                   group e by e.StudentId into g\n",
    "                   select g;"
   ]
  },
  {
   "cell_type": "markdown",
   "id": "3be90612",
   "metadata": {},
   "source": [
    "## Group join\n",
    "\n",
    "A **group join** combines both concepts: join two sequences and group the results."
   ]
  },
  {
   "cell_type": "code",
   "execution_count": null,
   "id": "19367e0f",
   "metadata": {},
   "outputs": [],
   "source": [
    "// Program.cs (top-level)\n",
    "\n",
    "var students = new List<Student>\n",
    "{\n",
    "    new Student { Id = 1, Name = \"Ana\" },\n",
    "    new Student { Id = 2, Name = \"Ben\" },\n",
    "    new Student { Id = 3, Name = \"Cara\" }\n",
    "};\n",
    "\n",
    "var enrollments = new List<Enrollment>\n",
    "{\n",
    "    new Enrollment { StudentId = 1, Course = \"Math\" },\n",
    "    new Enrollment { StudentId = 2, Course = \"History\" },\n",
    "    new Enrollment { StudentId = 1, Course = \"Physics\" },\n",
    "    new Enrollment { StudentId = 3, Course = \"Biology\" }\n",
    "};\n",
    "\n",
    "var groupJoin = students.GroupJoin(\n",
    "    enrollments,\n",
    "    s => s.Id,\n",
    "    e => e.StudentId,\n",
    "    (s, es) => new { s.Name, Courses = es }\n",
    ");\n",
    "\n",
    "foreach (var item in groupJoin)\n",
    "{\n",
    "    Console.WriteLine(item.Name);\n",
    "    foreach (var course in item.Courses)\n",
    "    {\n",
    "        Console.WriteLine($\"  {course.Course}\");\n",
    "    }\n",
    "}\n",
    "\n",
    "// Student.cs\n",
    "public class Student\n",
    "{\n",
    "    public int Id { get; set; }\n",
    "    public string Name { get; set; } = string.Empty;\n",
    "}\n",
    "\n",
    "// Enrollment\n",
    "public class Enrollment\n",
    "{\n",
    "    public int StudentId { get; set; }\n",
    "    public string Course { get; set; } = string.Empty;\n",
    "}"
   ]
  },
  {
   "cell_type": "markdown",
   "id": "76f50607",
   "metadata": {},
   "source": [
    "**Query expression equivalent:**"
   ]
  },
  {
   "cell_type": "code",
   "execution_count": null,
   "id": "04f72f30",
   "metadata": {
    "vscode": {
     "languageId": "csharp"
    }
   },
   "outputs": [],
   "source": [
    "var groupJoinQuery = from s in students\n",
    "                     join e in enrollments on s.Id equals e.StudentId into es\n",
    "                     select new { s.Name, Courses = es };"
   ]
  },
  {
   "cell_type": "markdown",
   "id": "765a41d7",
   "metadata": {},
   "source": [
    "## Summary\n",
    "\n",
    "- **Join**: combine two sequences by a matching key.\n",
    "- **GroupBy**: split one sequence into subsets keyed by a property.\n",
    "- **GroupJoin**: join and group in one operation.\n",
    "\n",
    "These are essential for working with related data in memory, similar to SQL joins and GROUP BY."
   ]
  }
 ],
 "metadata": {
  "kernelspec": {
   "display_name": ".NET (C#)",
   "language": "C#",
   "name": ".net-csharp"
  },
  "language_info": {
   "name": "polyglot-notebook"
  },
  "polyglot_notebook": {
   "kernelInfo": {
    "defaultKernelName": "csharp",
    "items": [
     {
      "aliases": [],
      "name": "csharp"
     }
    ]
   }
  }
 },
 "nbformat": 4,
 "nbformat_minor": 5
}
