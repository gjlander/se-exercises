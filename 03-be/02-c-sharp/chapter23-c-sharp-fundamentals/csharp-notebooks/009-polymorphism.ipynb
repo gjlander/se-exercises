{
 "cells": [
  {
   "cell_type": "markdown",
   "id": "a79b5c65",
   "metadata": {},
   "source": [
    "# Polymorphism\n",
    "\n",
    "Polymorphism is one of the four pillars of object‑oriented programming and is closely connected to **inheritance**. The word comes from Greek, meaning many forms. In C#, polymorphism allows different classes related by inheritance to respond differently to the same method call.\n",
    "\n",
    "## Why polymorphism matters\n",
    "\n",
    "- **Flexibility**: You can write code that works with a base class and rely on derived classes to provide specific behaviour.\n",
    "- **Reusability**: One interface, many implementations.\n",
    "- **Extensibility**: Add new types without changing existing code."
   ]
  },
  {
   "cell_type": "markdown",
   "id": "30d39097",
   "metadata": {},
   "source": [
    "## Example: Notifications\n",
    "\n",
    "Let's model a simple notification system where different channels (email, SMS, push) all derive from a common base class."
   ]
  },
  {
   "cell_type": "code",
   "execution_count": null,
   "id": "7015357e",
   "metadata": {},
   "outputs": [],
   "source": [
    "// Notification.cs\n",
    "public class Notification\n",
    "{\n",
    "    public string Recipient { get; private set; }\n",
    "\n",
    "    public Notification(string recipient)\n",
    "    {\n",
    "        Recipient = recipient;\n",
    "    }\n",
    "\n",
    "    public virtual void Send()\n",
    "    {\n",
    "        Console.WriteLine($\"Sending generic notification to {Recipient}\");\n",
    "    }\n",
    "}"
   ]
  },
  {
   "cell_type": "code",
   "execution_count": null,
   "id": "d1bc81b1",
   "metadata": {},
   "outputs": [],
   "source": [
    "// EmailNotification.cs\n",
    "public class EmailNotification : Notification\n",
    "{\n",
    "    public EmailNotification(string recipient) : base(recipient) {}\n",
    "\n",
    "    public override void Send()\n",
    "    {\n",
    "        Console.WriteLine($\"Sending EMAIL to {Recipient}\");\n",
    "    }\n",
    "}"
   ]
  },
  {
   "cell_type": "code",
   "execution_count": null,
   "id": "5ef3cda4",
   "metadata": {},
   "outputs": [],
   "source": [
    "// SmsNotification.cs\n",
    "public class SmsNotification : Notification\n",
    "{\n",
    "    public SmsNotification(string recipient) : base(recipient) {}\n",
    "\n",
    "    public override void Send()\n",
    "    {\n",
    "        Console.WriteLine($\"Sending SMS to {Recipient}\");\n",
    "    }\n",
    "}"
   ]
  },
  {
   "cell_type": "code",
   "execution_count": null,
   "id": "f2bdf2f2",
   "metadata": {},
   "outputs": [],
   "source": [
    "// PushNotification.cs\n",
    "public class PushNotification : Notification\n",
    "{\n",
    "    public PushNotification(string recipient) : base(recipient) {}\n",
    "\n",
    "    public override void Send()\n",
    "    {\n",
    "        Console.WriteLine($\"Sending PUSH notification to {Recipient}\");\n",
    "    }\n",
    "}"
   ]
  },
  {
   "cell_type": "markdown",
   "id": "1c1a09fb",
   "metadata": {},
   "source": [
    "## Usage"
   ]
  },
  {
   "cell_type": "code",
   "execution_count": null,
   "id": "b37ecab7",
   "metadata": {},
   "outputs": [],
   "source": [
    "// Derived classes can be used anywhere a BaseClass is expected, in this case, a List of Notifications\n",
    "var notifications = new List<Notification>\n",
    "{\n",
    "    new EmailNotification(\"alice@example.com\"),\n",
    "    new SmsNotification(\"+49123456789\"),\n",
    "    new PushNotification(\"User123\")\n",
    "};\n",
    "\n",
    "foreach (var n in notifications)\n",
    "{\n",
    "    n.Send(); // Polymorphism in action\n",
    "}"
   ]
  },
  {
   "cell_type": "markdown",
   "id": "87bafbd9",
   "metadata": {},
   "source": [
    "## Explanation\n",
    "\n",
    "- The base class `Notification` declares a virtual method `Send()`.\n",
    "- Each derived class overrides `Send()` to implement channel‑specific behaviour.\n",
    "- The `foreach` loop works on a list of `Notification` references, but at runtime the correct `Send()` method is chosen depending on the actual object type."
   ]
  },
  {
   "cell_type": "markdown",
   "id": "a408723c",
   "metadata": {},
   "source": [
    "## Overriding vs hiding\n",
    "\n",
    "Remember from the previous lecture: polymorphism only works when you use **overriding** with `virtual`/`override`. If you hide a method with `new`, the base reference will still call the base version, and polymorphism does not occur."
   ]
  },
  {
   "cell_type": "markdown",
   "id": "1d44a37d",
   "metadata": {},
   "source": [
    "## Key takeaway\n",
    "\n",
    "Polymorphism means you can treat objects of different derived types as instances of their base type and still get the correct, specific behaviour at runtime. This reduces coupling and makes your code easier to extend."
   ]
  }
 ],
 "metadata": {
  "kernelspec": {
   "display_name": ".NET (C#)",
   "language": "C#",
   "name": ".net-csharp"
  },
  "language_info": {
   "name": "polyglot-notebook"
  },
  "polyglot_notebook": {
   "kernelInfo": {
    "defaultKernelName": "csharp",
    "items": [
     {
      "aliases": [],
      "name": "csharp"
     }
    ]
   }
  }
 },
 "nbformat": 4,
 "nbformat_minor": 5
}
